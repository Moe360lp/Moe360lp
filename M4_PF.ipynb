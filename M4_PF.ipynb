{
  "nbformat": 4,
  "nbformat_minor": 0,
  "metadata": {
    "colab": {
      "name": "M4_ex.ipynb",
      "provenance": [],
      "collapsed_sections": []
    },
    "kernelspec": {
      "name": "python3",
      "display_name": "Python 3"
    },
    "language_info": {
      "name": "python"
    }
  },
  "cells": [
    {
      "cell_type": "code",
      "metadata": {
        "id": "s58Tod0ieVbz"
      },
      "source": [
        "# importar\n",
        "import pandas as pd\n",
        "import numpy as np\n",
        "import seaborn as sns\n",
        "import matplotlib.pyplot as plt"
      ],
      "execution_count": 103,
      "outputs": []
    },
    {
      "cell_type": "code",
      "metadata": {
        "id": "I95XvCBPemGF"
      },
      "source": [
        "from sklearn.model_selection import train_test_split\n",
        "\n",
        "from sklearn.linear_model import LinearRegression\n",
        "\n",
        "from sklearn.tree import DecisionTreeClassifier, plot_tree \n",
        "\n",
        "from sklearn import metrics "
      ],
      "execution_count": 104,
      "outputs": []
    },
    {
      "cell_type": "code",
      "metadata": {
        "id": "XvgJYvMtfXTB"
      },
      "source": [
        "# dataset\n",
        "dataset = pd.read_csv('output.csv')"
      ],
      "execution_count": 105,
      "outputs": []
    },
    {
      "cell_type": "code",
      "metadata": {
        "id": "g_xHMgT3fjv3",
        "colab": {
          "base_uri": "https://localhost:8080/",
          "height": 206
        },
        "outputId": "1359a9c5-ed05-4150-e02b-94e6256e531c"
      },
      "source": [
        "dataset.head()"
      ],
      "execution_count": 106,
      "outputs": [
        {
          "output_type": "execute_result",
          "data": {
            "text/html": [
              "<div>\n",
              "<style scoped>\n",
              "    .dataframe tbody tr th:only-of-type {\n",
              "        vertical-align: middle;\n",
              "    }\n",
              "\n",
              "    .dataframe tbody tr th {\n",
              "        vertical-align: top;\n",
              "    }\n",
              "\n",
              "    .dataframe thead th {\n",
              "        text-align: right;\n",
              "    }\n",
              "</style>\n",
              "<table border=\"1\" class=\"dataframe\">\n",
              "  <thead>\n",
              "    <tr style=\"text-align: right;\">\n",
              "      <th></th>\n",
              "      <th>Year</th>\n",
              "      <th>Month</th>\n",
              "      <th>State</th>\n",
              "      <th>County</th>\n",
              "      <th>Rate</th>\n",
              "    </tr>\n",
              "  </thead>\n",
              "  <tbody>\n",
              "    <tr>\n",
              "      <th>0</th>\n",
              "      <td>2015</td>\n",
              "      <td>February</td>\n",
              "      <td>Mississippi</td>\n",
              "      <td>Newton County</td>\n",
              "      <td>6.1</td>\n",
              "    </tr>\n",
              "    <tr>\n",
              "      <th>1</th>\n",
              "      <td>2015</td>\n",
              "      <td>February</td>\n",
              "      <td>Mississippi</td>\n",
              "      <td>Panola County</td>\n",
              "      <td>9.4</td>\n",
              "    </tr>\n",
              "    <tr>\n",
              "      <th>2</th>\n",
              "      <td>2015</td>\n",
              "      <td>February</td>\n",
              "      <td>Mississippi</td>\n",
              "      <td>Monroe County</td>\n",
              "      <td>7.9</td>\n",
              "    </tr>\n",
              "    <tr>\n",
              "      <th>3</th>\n",
              "      <td>2015</td>\n",
              "      <td>February</td>\n",
              "      <td>Mississippi</td>\n",
              "      <td>Hinds County</td>\n",
              "      <td>6.1</td>\n",
              "    </tr>\n",
              "    <tr>\n",
              "      <th>4</th>\n",
              "      <td>2015</td>\n",
              "      <td>February</td>\n",
              "      <td>Mississippi</td>\n",
              "      <td>Kemper County</td>\n",
              "      <td>10.6</td>\n",
              "    </tr>\n",
              "  </tbody>\n",
              "</table>\n",
              "</div>"
            ],
            "text/plain": [
              "   Year     Month        State         County  Rate\n",
              "0  2015  February  Mississippi  Newton County   6.1\n",
              "1  2015  February  Mississippi  Panola County   9.4\n",
              "2  2015  February  Mississippi  Monroe County   7.9\n",
              "3  2015  February  Mississippi   Hinds County   6.1\n",
              "4  2015  February  Mississippi  Kemper County  10.6"
            ]
          },
          "metadata": {},
          "execution_count": 106
        }
      ]
    },
    {
      "cell_type": "code",
      "metadata": {
        "colab": {
          "base_uri": "https://localhost:8080/",
          "height": 206
        },
        "id": "HPNWK2rI0jNu",
        "outputId": "e73338f0-4b49-41b7-d3fb-b4dbf88f0449"
      },
      "source": [
        "dataset.tail()"
      ],
      "execution_count": 107,
      "outputs": [
        {
          "output_type": "execute_result",
          "data": {
            "text/html": [
              "<div>\n",
              "<style scoped>\n",
              "    .dataframe tbody tr th:only-of-type {\n",
              "        vertical-align: middle;\n",
              "    }\n",
              "\n",
              "    .dataframe tbody tr th {\n",
              "        vertical-align: top;\n",
              "    }\n",
              "\n",
              "    .dataframe thead th {\n",
              "        text-align: right;\n",
              "    }\n",
              "</style>\n",
              "<table border=\"1\" class=\"dataframe\">\n",
              "  <thead>\n",
              "    <tr style=\"text-align: right;\">\n",
              "      <th></th>\n",
              "      <th>Year</th>\n",
              "      <th>Month</th>\n",
              "      <th>State</th>\n",
              "      <th>County</th>\n",
              "      <th>Rate</th>\n",
              "    </tr>\n",
              "  </thead>\n",
              "  <tbody>\n",
              "    <tr>\n",
              "      <th>885543</th>\n",
              "      <td>2009</td>\n",
              "      <td>November</td>\n",
              "      <td>Maine</td>\n",
              "      <td>Somerset County</td>\n",
              "      <td>10.5</td>\n",
              "    </tr>\n",
              "    <tr>\n",
              "      <th>885544</th>\n",
              "      <td>2009</td>\n",
              "      <td>November</td>\n",
              "      <td>Maine</td>\n",
              "      <td>Oxford County</td>\n",
              "      <td>10.5</td>\n",
              "    </tr>\n",
              "    <tr>\n",
              "      <th>885545</th>\n",
              "      <td>2009</td>\n",
              "      <td>November</td>\n",
              "      <td>Maine</td>\n",
              "      <td>Knox County</td>\n",
              "      <td>7.5</td>\n",
              "    </tr>\n",
              "    <tr>\n",
              "      <th>885546</th>\n",
              "      <td>2009</td>\n",
              "      <td>November</td>\n",
              "      <td>Maine</td>\n",
              "      <td>Piscataquis County</td>\n",
              "      <td>11.3</td>\n",
              "    </tr>\n",
              "    <tr>\n",
              "      <th>885547</th>\n",
              "      <td>2009</td>\n",
              "      <td>November</td>\n",
              "      <td>Maine</td>\n",
              "      <td>Aroostook County</td>\n",
              "      <td>9.0</td>\n",
              "    </tr>\n",
              "  </tbody>\n",
              "</table>\n",
              "</div>"
            ],
            "text/plain": [
              "        Year     Month  State              County  Rate\n",
              "885543  2009  November  Maine     Somerset County  10.5\n",
              "885544  2009  November  Maine       Oxford County  10.5\n",
              "885545  2009  November  Maine         Knox County   7.5\n",
              "885546  2009  November  Maine  Piscataquis County  11.3\n",
              "885547  2009  November  Maine    Aroostook County   9.0"
            ]
          },
          "metadata": {},
          "execution_count": 107
        }
      ]
    },
    {
      "cell_type": "code",
      "metadata": {
        "colab": {
          "base_uri": "https://localhost:8080/",
          "height": 300
        },
        "id": "GAfQtYVn0qdf",
        "outputId": "69d6aa1a-d4af-4527-8d7c-1d38b06263c4"
      },
      "source": [
        "dataset.describe()"
      ],
      "execution_count": 108,
      "outputs": [
        {
          "output_type": "execute_result",
          "data": {
            "text/html": [
              "<div>\n",
              "<style scoped>\n",
              "    .dataframe tbody tr th:only-of-type {\n",
              "        vertical-align: middle;\n",
              "    }\n",
              "\n",
              "    .dataframe tbody tr th {\n",
              "        vertical-align: top;\n",
              "    }\n",
              "\n",
              "    .dataframe thead th {\n",
              "        text-align: right;\n",
              "    }\n",
              "</style>\n",
              "<table border=\"1\" class=\"dataframe\">\n",
              "  <thead>\n",
              "    <tr style=\"text-align: right;\">\n",
              "      <th></th>\n",
              "      <th>Year</th>\n",
              "      <th>Rate</th>\n",
              "    </tr>\n",
              "  </thead>\n",
              "  <tbody>\n",
              "    <tr>\n",
              "      <th>count</th>\n",
              "      <td>885548.000000</td>\n",
              "      <td>885548.000000</td>\n",
              "    </tr>\n",
              "    <tr>\n",
              "      <th>mean</th>\n",
              "      <td>2003.000017</td>\n",
              "      <td>6.175010</td>\n",
              "    </tr>\n",
              "    <tr>\n",
              "      <th>std</th>\n",
              "      <td>7.824893</td>\n",
              "      <td>3.112535</td>\n",
              "    </tr>\n",
              "    <tr>\n",
              "      <th>min</th>\n",
              "      <td>1990.000000</td>\n",
              "      <td>0.000000</td>\n",
              "    </tr>\n",
              "    <tr>\n",
              "      <th>25%</th>\n",
              "      <td>1996.000000</td>\n",
              "      <td>4.000000</td>\n",
              "    </tr>\n",
              "    <tr>\n",
              "      <th>50%</th>\n",
              "      <td>2003.000000</td>\n",
              "      <td>5.500000</td>\n",
              "    </tr>\n",
              "    <tr>\n",
              "      <th>75%</th>\n",
              "      <td>2010.000000</td>\n",
              "      <td>7.700000</td>\n",
              "    </tr>\n",
              "    <tr>\n",
              "      <th>max</th>\n",
              "      <td>2016.000000</td>\n",
              "      <td>58.400000</td>\n",
              "    </tr>\n",
              "  </tbody>\n",
              "</table>\n",
              "</div>"
            ],
            "text/plain": [
              "                Year           Rate\n",
              "count  885548.000000  885548.000000\n",
              "mean     2003.000017       6.175010\n",
              "std         7.824893       3.112535\n",
              "min      1990.000000       0.000000\n",
              "25%      1996.000000       4.000000\n",
              "50%      2003.000000       5.500000\n",
              "75%      2010.000000       7.700000\n",
              "max      2016.000000      58.400000"
            ]
          },
          "metadata": {},
          "execution_count": 108
        }
      ]
    },
    {
      "cell_type": "code",
      "metadata": {
        "colab": {
          "base_uri": "https://localhost:8080/"
        },
        "id": "0LP1kb3n1B1j",
        "outputId": "75f40367-5fc2-4905-f6a0-b35f03e3a9d0"
      },
      "source": [
        "conteo = dataset.isnull().sum().sort_values(ascending=False)\n",
        "conteo"
      ],
      "execution_count": 109,
      "outputs": [
        {
          "output_type": "execute_result",
          "data": {
            "text/plain": [
              "Rate      0\n",
              "County    0\n",
              "State     0\n",
              "Month     0\n",
              "Year      0\n",
              "dtype: int64"
            ]
          },
          "metadata": {},
          "execution_count": 109
        }
      ]
    },
    {
      "cell_type": "code",
      "metadata": {
        "id": "SzR4ayduxNpS"
      },
      "source": [
        "col = dataset[dataset.Year==2015]"
      ],
      "execution_count": 79,
      "outputs": []
    },
    {
      "cell_type": "code",
      "metadata": {
        "id": "0VQqPvWG65EG"
      },
      "source": [
        "col=dataset[['Year']]"
      ],
      "execution_count": 118,
      "outputs": []
    },
    {
      "cell_type": "code",
      "metadata": {
        "id": "F5BZVCEKzTBS"
      },
      "source": [
        "obj=dataset[['Rate']]"
      ],
      "execution_count": 119,
      "outputs": []
    },
    {
      "cell_type": "code",
      "metadata": {
        "id": "CTGABMQ2zWvu"
      },
      "source": [
        "model=LinearRegression()"
      ],
      "execution_count": 120,
      "outputs": []
    },
    {
      "cell_type": "code",
      "metadata": {
        "colab": {
          "base_uri": "https://localhost:8080/"
        },
        "id": "etzUNysyzqua",
        "outputId": "e56c8d2f-92d6-46d8-bdef-42fefcb465f6"
      },
      "source": [
        "type(model)"
      ],
      "execution_count": 121,
      "outputs": [
        {
          "output_type": "execute_result",
          "data": {
            "text/plain": [
              "sklearn.linear_model._base.LinearRegression"
            ]
          },
          "metadata": {},
          "execution_count": 121
        }
      ]
    },
    {
      "cell_type": "code",
      "metadata": {
        "colab": {
          "base_uri": "https://localhost:8080/"
        },
        "id": "Iaq8x0lYzudH",
        "outputId": "75e42553-b52b-4b48-a8ba-aec1adb60178"
      },
      "source": [
        "model.fit(X=col,y=obj)"
      ],
      "execution_count": 122,
      "outputs": [
        {
          "output_type": "execute_result",
          "data": {
            "text/plain": [
              "LinearRegression()"
            ]
          },
          "metadata": {},
          "execution_count": 122
        }
      ]
    },
    {
      "cell_type": "code",
      "metadata": {
        "colab": {
          "base_uri": "https://localhost:8080/"
        },
        "id": "L8XRuhJO0DZW",
        "outputId": "dc68434b-9559-4a0f-f01b-453f2a8a179c"
      },
      "source": [
        "model.__dict__"
      ],
      "execution_count": 124,
      "outputs": [
        {
          "output_type": "execute_result",
          "data": {
            "text/plain": [
              "{'_residues': array([8548741.34599104]),\n",
              " 'coef_': array([[0.02364938]]),\n",
              " 'copy_X': True,\n",
              " 'feature_names_in_': array(['Year'], dtype=object),\n",
              " 'fit_intercept': True,\n",
              " 'intercept_': array([-41.19470509]),\n",
              " 'n_features_in_': 1,\n",
              " 'n_jobs': None,\n",
              " 'normalize': 'deprecated',\n",
              " 'positive': False,\n",
              " 'rank_': 1,\n",
              " 'singular_': array([7363.49869286])}"
            ]
          },
          "metadata": {},
          "execution_count": 124
        }
      ]
    },
    {
      "cell_type": "code",
      "metadata": {
        "colab": {
          "base_uri": "https://localhost:8080/"
        },
        "id": "VktOZUAp0f-z",
        "outputId": "575ac2d4-3721-4e63-a262-5dce133b4514"
      },
      "source": [
        "model.predict(X=[[2016]])"
      ],
      "execution_count": 125,
      "outputs": [
        {
          "output_type": "stream",
          "name": "stderr",
          "text": [
            "/usr/local/lib/python3.7/dist-packages/sklearn/base.py:446: UserWarning: X does not have valid feature names, but LinearRegression was fitted with feature names\n",
            "  \"X does not have valid feature names, but\"\n"
          ]
        },
        {
          "output_type": "execute_result",
          "data": {
            "text/plain": [
              "array([[6.48245129]])"
            ]
          },
          "metadata": {},
          "execution_count": 125
        }
      ]
    },
    {
      "cell_type": "code",
      "metadata": {
        "colab": {
          "base_uri": "https://localhost:8080/"
        },
        "id": "hGayAeyk1Ofx",
        "outputId": "3d425461-c61e-4701-cffc-75386cda96f8"
      },
      "source": [
        "y_pred=model.predict(X=dataset[['Year']])\n",
        "y_pred"
      ],
      "execution_count": 133,
      "outputs": [
        {
          "output_type": "execute_result",
          "data": {
            "text/plain": [
              "array([[6.45880191],\n",
              "       [6.45880191],\n",
              "       [6.45880191],\n",
              "       ...,\n",
              "       [6.31690561],\n",
              "       [6.31690561],\n",
              "       [6.31690561]])"
            ]
          },
          "metadata": {},
          "execution_count": 133
        }
      ]
    },
    {
      "cell_type": "code",
      "metadata": {
        "colab": {
          "base_uri": "https://localhost:8080/",
          "height": 423
        },
        "id": "0cCdkLNr2m1M",
        "outputId": "e922a88c-5230-489f-e9dc-29380babcb5b"
      },
      "source": [
        "dataset"
      ],
      "execution_count": 127,
      "outputs": [
        {
          "output_type": "execute_result",
          "data": {
            "text/html": [
              "<div>\n",
              "<style scoped>\n",
              "    .dataframe tbody tr th:only-of-type {\n",
              "        vertical-align: middle;\n",
              "    }\n",
              "\n",
              "    .dataframe tbody tr th {\n",
              "        vertical-align: top;\n",
              "    }\n",
              "\n",
              "    .dataframe thead th {\n",
              "        text-align: right;\n",
              "    }\n",
              "</style>\n",
              "<table border=\"1\" class=\"dataframe\">\n",
              "  <thead>\n",
              "    <tr style=\"text-align: right;\">\n",
              "      <th></th>\n",
              "      <th>Year</th>\n",
              "      <th>Month</th>\n",
              "      <th>State</th>\n",
              "      <th>County</th>\n",
              "      <th>Rate</th>\n",
              "    </tr>\n",
              "  </thead>\n",
              "  <tbody>\n",
              "    <tr>\n",
              "      <th>0</th>\n",
              "      <td>2015</td>\n",
              "      <td>February</td>\n",
              "      <td>Mississippi</td>\n",
              "      <td>Newton County</td>\n",
              "      <td>6.1</td>\n",
              "    </tr>\n",
              "    <tr>\n",
              "      <th>1</th>\n",
              "      <td>2015</td>\n",
              "      <td>February</td>\n",
              "      <td>Mississippi</td>\n",
              "      <td>Panola County</td>\n",
              "      <td>9.4</td>\n",
              "    </tr>\n",
              "    <tr>\n",
              "      <th>2</th>\n",
              "      <td>2015</td>\n",
              "      <td>February</td>\n",
              "      <td>Mississippi</td>\n",
              "      <td>Monroe County</td>\n",
              "      <td>7.9</td>\n",
              "    </tr>\n",
              "    <tr>\n",
              "      <th>3</th>\n",
              "      <td>2015</td>\n",
              "      <td>February</td>\n",
              "      <td>Mississippi</td>\n",
              "      <td>Hinds County</td>\n",
              "      <td>6.1</td>\n",
              "    </tr>\n",
              "    <tr>\n",
              "      <th>4</th>\n",
              "      <td>2015</td>\n",
              "      <td>February</td>\n",
              "      <td>Mississippi</td>\n",
              "      <td>Kemper County</td>\n",
              "      <td>10.6</td>\n",
              "    </tr>\n",
              "    <tr>\n",
              "      <th>...</th>\n",
              "      <td>...</td>\n",
              "      <td>...</td>\n",
              "      <td>...</td>\n",
              "      <td>...</td>\n",
              "      <td>...</td>\n",
              "    </tr>\n",
              "    <tr>\n",
              "      <th>885543</th>\n",
              "      <td>2009</td>\n",
              "      <td>November</td>\n",
              "      <td>Maine</td>\n",
              "      <td>Somerset County</td>\n",
              "      <td>10.5</td>\n",
              "    </tr>\n",
              "    <tr>\n",
              "      <th>885544</th>\n",
              "      <td>2009</td>\n",
              "      <td>November</td>\n",
              "      <td>Maine</td>\n",
              "      <td>Oxford County</td>\n",
              "      <td>10.5</td>\n",
              "    </tr>\n",
              "    <tr>\n",
              "      <th>885545</th>\n",
              "      <td>2009</td>\n",
              "      <td>November</td>\n",
              "      <td>Maine</td>\n",
              "      <td>Knox County</td>\n",
              "      <td>7.5</td>\n",
              "    </tr>\n",
              "    <tr>\n",
              "      <th>885546</th>\n",
              "      <td>2009</td>\n",
              "      <td>November</td>\n",
              "      <td>Maine</td>\n",
              "      <td>Piscataquis County</td>\n",
              "      <td>11.3</td>\n",
              "    </tr>\n",
              "    <tr>\n",
              "      <th>885547</th>\n",
              "      <td>2009</td>\n",
              "      <td>November</td>\n",
              "      <td>Maine</td>\n",
              "      <td>Aroostook County</td>\n",
              "      <td>9.0</td>\n",
              "    </tr>\n",
              "  </tbody>\n",
              "</table>\n",
              "<p>885548 rows × 5 columns</p>\n",
              "</div>"
            ],
            "text/plain": [
              "        Year     Month        State              County  Rate\n",
              "0       2015  February  Mississippi       Newton County   6.1\n",
              "1       2015  February  Mississippi       Panola County   9.4\n",
              "2       2015  February  Mississippi       Monroe County   7.9\n",
              "3       2015  February  Mississippi        Hinds County   6.1\n",
              "4       2015  February  Mississippi       Kemper County  10.6\n",
              "...      ...       ...          ...                 ...   ...\n",
              "885543  2009  November        Maine     Somerset County  10.5\n",
              "885544  2009  November        Maine       Oxford County  10.5\n",
              "885545  2009  November        Maine         Knox County   7.5\n",
              "885546  2009  November        Maine  Piscataquis County  11.3\n",
              "885547  2009  November        Maine    Aroostook County   9.0\n",
              "\n",
              "[885548 rows x 5 columns]"
            ]
          },
          "metadata": {},
          "execution_count": 127
        }
      ]
    },
    {
      "cell_type": "code",
      "metadata": {
        "id": "D6hc-pBZ11AW"
      },
      "source": [
        "dataset.insert(5,'pred',y_pred, allow_duplicates=True)"
      ],
      "execution_count": 128,
      "outputs": []
    },
    {
      "cell_type": "code",
      "metadata": {
        "colab": {
          "base_uri": "https://localhost:8080/",
          "height": 206
        },
        "id": "RaiSyQCf2Gj3",
        "outputId": "f9d408bf-22d3-4085-e9d3-e0bcb066e8e9"
      },
      "source": [
        "dataset.tail()"
      ],
      "execution_count": 134,
      "outputs": [
        {
          "output_type": "execute_result",
          "data": {
            "text/html": [
              "<div>\n",
              "<style scoped>\n",
              "    .dataframe tbody tr th:only-of-type {\n",
              "        vertical-align: middle;\n",
              "    }\n",
              "\n",
              "    .dataframe tbody tr th {\n",
              "        vertical-align: top;\n",
              "    }\n",
              "\n",
              "    .dataframe thead th {\n",
              "        text-align: right;\n",
              "    }\n",
              "</style>\n",
              "<table border=\"1\" class=\"dataframe\">\n",
              "  <thead>\n",
              "    <tr style=\"text-align: right;\">\n",
              "      <th></th>\n",
              "      <th>Year</th>\n",
              "      <th>Month</th>\n",
              "      <th>State</th>\n",
              "      <th>County</th>\n",
              "      <th>Rate</th>\n",
              "      <th>pred</th>\n",
              "    </tr>\n",
              "  </thead>\n",
              "  <tbody>\n",
              "    <tr>\n",
              "      <th>885543</th>\n",
              "      <td>2009</td>\n",
              "      <td>November</td>\n",
              "      <td>Maine</td>\n",
              "      <td>Somerset County</td>\n",
              "      <td>10.5</td>\n",
              "      <td>6.316906</td>\n",
              "    </tr>\n",
              "    <tr>\n",
              "      <th>885544</th>\n",
              "      <td>2009</td>\n",
              "      <td>November</td>\n",
              "      <td>Maine</td>\n",
              "      <td>Oxford County</td>\n",
              "      <td>10.5</td>\n",
              "      <td>6.316906</td>\n",
              "    </tr>\n",
              "    <tr>\n",
              "      <th>885545</th>\n",
              "      <td>2009</td>\n",
              "      <td>November</td>\n",
              "      <td>Maine</td>\n",
              "      <td>Knox County</td>\n",
              "      <td>7.5</td>\n",
              "      <td>6.316906</td>\n",
              "    </tr>\n",
              "    <tr>\n",
              "      <th>885546</th>\n",
              "      <td>2009</td>\n",
              "      <td>November</td>\n",
              "      <td>Maine</td>\n",
              "      <td>Piscataquis County</td>\n",
              "      <td>11.3</td>\n",
              "      <td>6.316906</td>\n",
              "    </tr>\n",
              "    <tr>\n",
              "      <th>885547</th>\n",
              "      <td>2009</td>\n",
              "      <td>November</td>\n",
              "      <td>Maine</td>\n",
              "      <td>Aroostook County</td>\n",
              "      <td>9.0</td>\n",
              "      <td>6.316906</td>\n",
              "    </tr>\n",
              "  </tbody>\n",
              "</table>\n",
              "</div>"
            ],
            "text/plain": [
              "        Year     Month  State              County  Rate      pred\n",
              "885543  2009  November  Maine     Somerset County  10.5  6.316906\n",
              "885544  2009  November  Maine       Oxford County  10.5  6.316906\n",
              "885545  2009  November  Maine         Knox County   7.5  6.316906\n",
              "885546  2009  November  Maine  Piscataquis County  11.3  6.316906\n",
              "885547  2009  November  Maine    Aroostook County   9.0  6.316906"
            ]
          },
          "metadata": {},
          "execution_count": 134
        }
      ]
    },
    {
      "cell_type": "code",
      "metadata": {
        "colab": {
          "base_uri": "https://localhost:8080/",
          "height": 423
        },
        "id": "3q7n5jVZ7Uw7",
        "outputId": "26628375-27c2-475e-8f0c-34101cd58ae1"
      },
      "source": [
        "dataset[dataset.Year==2016]"
      ],
      "execution_count": 136,
      "outputs": [
        {
          "output_type": "execute_result",
          "data": {
            "text/html": [
              "<div>\n",
              "<style scoped>\n",
              "    .dataframe tbody tr th:only-of-type {\n",
              "        vertical-align: middle;\n",
              "    }\n",
              "\n",
              "    .dataframe tbody tr th {\n",
              "        vertical-align: top;\n",
              "    }\n",
              "\n",
              "    .dataframe thead th {\n",
              "        text-align: right;\n",
              "    }\n",
              "</style>\n",
              "<table border=\"1\" class=\"dataframe\">\n",
              "  <thead>\n",
              "    <tr style=\"text-align: right;\">\n",
              "      <th></th>\n",
              "      <th>Year</th>\n",
              "      <th>Month</th>\n",
              "      <th>State</th>\n",
              "      <th>County</th>\n",
              "      <th>Rate</th>\n",
              "      <th>pred</th>\n",
              "    </tr>\n",
              "  </thead>\n",
              "  <tbody>\n",
              "    <tr>\n",
              "      <th>67924</th>\n",
              "      <td>2016</td>\n",
              "      <td>February</td>\n",
              "      <td>Mississippi</td>\n",
              "      <td>Newton County</td>\n",
              "      <td>5.9</td>\n",
              "      <td>6.482451</td>\n",
              "    </tr>\n",
              "    <tr>\n",
              "      <th>67925</th>\n",
              "      <td>2016</td>\n",
              "      <td>February</td>\n",
              "      <td>Mississippi</td>\n",
              "      <td>Panola County</td>\n",
              "      <td>8.1</td>\n",
              "      <td>6.482451</td>\n",
              "    </tr>\n",
              "    <tr>\n",
              "      <th>67926</th>\n",
              "      <td>2016</td>\n",
              "      <td>February</td>\n",
              "      <td>Mississippi</td>\n",
              "      <td>Monroe County</td>\n",
              "      <td>6.6</td>\n",
              "      <td>6.482451</td>\n",
              "    </tr>\n",
              "    <tr>\n",
              "      <th>67927</th>\n",
              "      <td>2016</td>\n",
              "      <td>February</td>\n",
              "      <td>Mississippi</td>\n",
              "      <td>Hinds County</td>\n",
              "      <td>5.5</td>\n",
              "      <td>6.482451</td>\n",
              "    </tr>\n",
              "    <tr>\n",
              "      <th>67928</th>\n",
              "      <td>2016</td>\n",
              "      <td>February</td>\n",
              "      <td>Mississippi</td>\n",
              "      <td>Kemper County</td>\n",
              "      <td>8.3</td>\n",
              "      <td>6.482451</td>\n",
              "    </tr>\n",
              "    <tr>\n",
              "      <th>...</th>\n",
              "      <td>...</td>\n",
              "      <td>...</td>\n",
              "      <td>...</td>\n",
              "      <td>...</td>\n",
              "      <td>...</td>\n",
              "      <td>...</td>\n",
              "    </tr>\n",
              "    <tr>\n",
              "      <th>102225</th>\n",
              "      <td>2016</td>\n",
              "      <td>November</td>\n",
              "      <td>Maine</td>\n",
              "      <td>Somerset County</td>\n",
              "      <td>5.4</td>\n",
              "      <td>6.482451</td>\n",
              "    </tr>\n",
              "    <tr>\n",
              "      <th>102226</th>\n",
              "      <td>2016</td>\n",
              "      <td>November</td>\n",
              "      <td>Maine</td>\n",
              "      <td>Oxford County</td>\n",
              "      <td>4.6</td>\n",
              "      <td>6.482451</td>\n",
              "    </tr>\n",
              "    <tr>\n",
              "      <th>102227</th>\n",
              "      <td>2016</td>\n",
              "      <td>November</td>\n",
              "      <td>Maine</td>\n",
              "      <td>Knox County</td>\n",
              "      <td>3.6</td>\n",
              "      <td>6.482451</td>\n",
              "    </tr>\n",
              "    <tr>\n",
              "      <th>102228</th>\n",
              "      <td>2016</td>\n",
              "      <td>November</td>\n",
              "      <td>Maine</td>\n",
              "      <td>Piscataquis County</td>\n",
              "      <td>5.6</td>\n",
              "      <td>6.482451</td>\n",
              "    </tr>\n",
              "    <tr>\n",
              "      <th>102229</th>\n",
              "      <td>2016</td>\n",
              "      <td>November</td>\n",
              "      <td>Maine</td>\n",
              "      <td>Aroostook County</td>\n",
              "      <td>5.7</td>\n",
              "      <td>6.482451</td>\n",
              "    </tr>\n",
              "  </tbody>\n",
              "</table>\n",
              "<p>34306 rows × 6 columns</p>\n",
              "</div>"
            ],
            "text/plain": [
              "        Year     Month        State              County  Rate      pred\n",
              "67924   2016  February  Mississippi       Newton County   5.9  6.482451\n",
              "67925   2016  February  Mississippi       Panola County   8.1  6.482451\n",
              "67926   2016  February  Mississippi       Monroe County   6.6  6.482451\n",
              "67927   2016  February  Mississippi        Hinds County   5.5  6.482451\n",
              "67928   2016  February  Mississippi       Kemper County   8.3  6.482451\n",
              "...      ...       ...          ...                 ...   ...       ...\n",
              "102225  2016  November        Maine     Somerset County   5.4  6.482451\n",
              "102226  2016  November        Maine       Oxford County   4.6  6.482451\n",
              "102227  2016  November        Maine         Knox County   3.6  6.482451\n",
              "102228  2016  November        Maine  Piscataquis County   5.6  6.482451\n",
              "102229  2016  November        Maine    Aroostook County   5.7  6.482451\n",
              "\n",
              "[34306 rows x 6 columns]"
            ]
          },
          "metadata": {},
          "execution_count": 136
        }
      ]
    },
    {
      "cell_type": "code",
      "metadata": {
        "colab": {
          "base_uri": "https://localhost:8080/",
          "height": 296
        },
        "id": "0ygM_MIT2kFZ",
        "outputId": "83a1ac38-2253-4a76-ed34-e4bc9d7becc4"
      },
      "source": [
        "sns.scatterplot(x='Year',y='Rate',data=dataset)\n",
        "sns.scatterplot(x='Year',y='pred',data=dataset)"
      ],
      "execution_count": 137,
      "outputs": [
        {
          "output_type": "execute_result",
          "data": {
            "text/plain": [
              "<matplotlib.axes._subplots.AxesSubplot at 0x7f0863b5cc90>"
            ]
          },
          "metadata": {},
          "execution_count": 137
        },
        {
          "output_type": "display_data",
          "data": {
            "image/png": "[encoded data removed]",
            "text/plain": [
              "<Figure size 432x288 with 1 Axes>"
            ]
          },
          "metadata": {
            "needs_background": "light"
          }
        }
      ]
    },
    {
      "cell_type": "markdown",
      "metadata": {
        "id": "v7e44wcRgQrN"
      },
      "source": [
        "# Sección nueva"
      ]
    },
    {
      "cell_type": "markdown",
      "metadata": {
        "id": "NxEEvLvNgRMf"
      },
      "source": [
        "# Sección nueva"
      ]
    }
  ]
}