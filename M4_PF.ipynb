{
  "nbformat": 4,
  "nbformat_minor": 0,
  "metadata": {
    "colab": {
      "name": "M4_PF.ipynb",
      "provenance": [],
      "collapsed_sections": []
    },
    "kernelspec": {
      "name": "python3",
      "display_name": "Python 3"
    },
    "language_info": {
      "name": "python"
    }
  },
  "cells": [
    {
      "cell_type": "code",
      "metadata": {
        "id": "Fq3Te8vHtKDO"
      },
      "source": [
        "import pandas as pd\n",
        "import matplotlib.pyplot as plt\n",
        "import numpy as np\n",
        "from sklearn import datasets, linear_model\n",
        "from sklearn.linear_model import LogisticRegression\n",
        "from sklearn import model_selection\n",
        "from sklearn.metrics import mean_squared_error, r2_score\n",
        "import seaborn as sns"
      ],
      "execution_count": 413,
      "outputs": []
    },
    {
      "cell_type": "code",
      "metadata": {
        "id": "eqd_Uy_0tOkW"
      },
      "source": [
        "df = pd.read_csv('output.csv')"
      ],
      "execution_count": 325,
      "outputs": []
    },
    {
      "cell_type": "code",
      "metadata": {
        "colab": {
          "base_uri": "https://localhost:8080/",
          "height": 206
        },
        "id": "-XtTEbN1upHw",
        "outputId": "15719351-3ae3-460d-96f8-5c6eaa234eb0"
      },
      "source": [
        "df.head()"
      ],
      "execution_count": 327,
      "outputs": [
        {
          "output_type": "execute_result",
          "data": {
            "text/html": [
              "<div>\n",
              "<style scoped>\n",
              "    .dataframe tbody tr th:only-of-type {\n",
              "        vertical-align: middle;\n",
              "    }\n",
              "\n",
              "    .dataframe tbody tr th {\n",
              "        vertical-align: top;\n",
              "    }\n",
              "\n",
              "    .dataframe thead th {\n",
              "        text-align: right;\n",
              "    }\n",
              "</style>\n",
              "<table border=\"1\" class=\"dataframe\">\n",
              "  <thead>\n",
              "    <tr style=\"text-align: right;\">\n",
              "      <th></th>\n",
              "      <th>Year</th>\n",
              "      <th>Month</th>\n",
              "      <th>State</th>\n",
              "      <th>County</th>\n",
              "      <th>Rate</th>\n",
              "    </tr>\n",
              "  </thead>\n",
              "  <tbody>\n",
              "    <tr>\n",
              "      <th>0</th>\n",
              "      <td>2015</td>\n",
              "      <td>February</td>\n",
              "      <td>Mississippi</td>\n",
              "      <td>Newton County</td>\n",
              "      <td>6.1</td>\n",
              "    </tr>\n",
              "    <tr>\n",
              "      <th>1</th>\n",
              "      <td>2015</td>\n",
              "      <td>February</td>\n",
              "      <td>Mississippi</td>\n",
              "      <td>Panola County</td>\n",
              "      <td>9.4</td>\n",
              "    </tr>\n",
              "    <tr>\n",
              "      <th>2</th>\n",
              "      <td>2015</td>\n",
              "      <td>February</td>\n",
              "      <td>Mississippi</td>\n",
              "      <td>Monroe County</td>\n",
              "      <td>7.9</td>\n",
              "    </tr>\n",
              "    <tr>\n",
              "      <th>3</th>\n",
              "      <td>2015</td>\n",
              "      <td>February</td>\n",
              "      <td>Mississippi</td>\n",
              "      <td>Hinds County</td>\n",
              "      <td>6.1</td>\n",
              "    </tr>\n",
              "    <tr>\n",
              "      <th>4</th>\n",
              "      <td>2015</td>\n",
              "      <td>February</td>\n",
              "      <td>Mississippi</td>\n",
              "      <td>Kemper County</td>\n",
              "      <td>10.6</td>\n",
              "    </tr>\n",
              "  </tbody>\n",
              "</table>\n",
              "</div>"
            ],
            "text/plain": [
              "   Year     Month        State         County  Rate\n",
              "0  2015  February  Mississippi  Newton County   6.1\n",
              "1  2015  February  Mississippi  Panola County   9.4\n",
              "2  2015  February  Mississippi  Monroe County   7.9\n",
              "3  2015  February  Mississippi   Hinds County   6.1\n",
              "4  2015  February  Mississippi  Kemper County  10.6"
            ]
          },
          "metadata": {},
          "execution_count": 327
        }
      ]
    },
    {
      "cell_type": "code",
      "metadata": {
        "colab": {
          "base_uri": "https://localhost:8080/",
          "height": 423
        },
        "id": "NX8ipni7ZjZD",
        "outputId": "1ffbf108-473e-4069-8ffa-3e217ad594b7"
      },
      "source": [
        "df.insert(0,'sec1',1 ,allow_duplicates=True)\n",
        "df.insert(1,'sec2',1 ,allow_duplicates=True)\n",
        "df"
      ],
      "execution_count": 328,
      "outputs": [
        {
          "output_type": "execute_result",
          "data": {
            "text/html": [
              "<div>\n",
              "<style scoped>\n",
              "    .dataframe tbody tr th:only-of-type {\n",
              "        vertical-align: middle;\n",
              "    }\n",
              "\n",
              "    .dataframe tbody tr th {\n",
              "        vertical-align: top;\n",
              "    }\n",
              "\n",
              "    .dataframe thead th {\n",
              "        text-align: right;\n",
              "    }\n",
              "</style>\n",
              "<table border=\"1\" class=\"dataframe\">\n",
              "  <thead>\n",
              "    <tr style=\"text-align: right;\">\n",
              "      <th></th>\n",
              "      <th>sec1</th>\n",
              "      <th>sec2</th>\n",
              "      <th>Year</th>\n",
              "      <th>Month</th>\n",
              "      <th>State</th>\n",
              "      <th>County</th>\n",
              "      <th>Rate</th>\n",
              "    </tr>\n",
              "  </thead>\n",
              "  <tbody>\n",
              "    <tr>\n",
              "      <th>0</th>\n",
              "      <td>1</td>\n",
              "      <td>1</td>\n",
              "      <td>2015</td>\n",
              "      <td>February</td>\n",
              "      <td>Mississippi</td>\n",
              "      <td>Newton County</td>\n",
              "      <td>6.1</td>\n",
              "    </tr>\n",
              "    <tr>\n",
              "      <th>1</th>\n",
              "      <td>1</td>\n",
              "      <td>1</td>\n",
              "      <td>2015</td>\n",
              "      <td>February</td>\n",
              "      <td>Mississippi</td>\n",
              "      <td>Panola County</td>\n",
              "      <td>9.4</td>\n",
              "    </tr>\n",
              "    <tr>\n",
              "      <th>2</th>\n",
              "      <td>1</td>\n",
              "      <td>1</td>\n",
              "      <td>2015</td>\n",
              "      <td>February</td>\n",
              "      <td>Mississippi</td>\n",
              "      <td>Monroe County</td>\n",
              "      <td>7.9</td>\n",
              "    </tr>\n",
              "    <tr>\n",
              "      <th>3</th>\n",
              "      <td>1</td>\n",
              "      <td>1</td>\n",
              "      <td>2015</td>\n",
              "      <td>February</td>\n",
              "      <td>Mississippi</td>\n",
              "      <td>Hinds County</td>\n",
              "      <td>6.1</td>\n",
              "    </tr>\n",
              "    <tr>\n",
              "      <th>4</th>\n",
              "      <td>1</td>\n",
              "      <td>1</td>\n",
              "      <td>2015</td>\n",
              "      <td>February</td>\n",
              "      <td>Mississippi</td>\n",
              "      <td>Kemper County</td>\n",
              "      <td>10.6</td>\n",
              "    </tr>\n",
              "    <tr>\n",
              "      <th>...</th>\n",
              "      <td>...</td>\n",
              "      <td>...</td>\n",
              "      <td>...</td>\n",
              "      <td>...</td>\n",
              "      <td>...</td>\n",
              "      <td>...</td>\n",
              "      <td>...</td>\n",
              "    </tr>\n",
              "    <tr>\n",
              "      <th>885543</th>\n",
              "      <td>1</td>\n",
              "      <td>1</td>\n",
              "      <td>2009</td>\n",
              "      <td>November</td>\n",
              "      <td>Maine</td>\n",
              "      <td>Somerset County</td>\n",
              "      <td>10.5</td>\n",
              "    </tr>\n",
              "    <tr>\n",
              "      <th>885544</th>\n",
              "      <td>1</td>\n",
              "      <td>1</td>\n",
              "      <td>2009</td>\n",
              "      <td>November</td>\n",
              "      <td>Maine</td>\n",
              "      <td>Oxford County</td>\n",
              "      <td>10.5</td>\n",
              "    </tr>\n",
              "    <tr>\n",
              "      <th>885545</th>\n",
              "      <td>1</td>\n",
              "      <td>1</td>\n",
              "      <td>2009</td>\n",
              "      <td>November</td>\n",
              "      <td>Maine</td>\n",
              "      <td>Knox County</td>\n",
              "      <td>7.5</td>\n",
              "    </tr>\n",
              "    <tr>\n",
              "      <th>885546</th>\n",
              "      <td>1</td>\n",
              "      <td>1</td>\n",
              "      <td>2009</td>\n",
              "      <td>November</td>\n",
              "      <td>Maine</td>\n",
              "      <td>Piscataquis County</td>\n",
              "      <td>11.3</td>\n",
              "    </tr>\n",
              "    <tr>\n",
              "      <th>885547</th>\n",
              "      <td>1</td>\n",
              "      <td>1</td>\n",
              "      <td>2009</td>\n",
              "      <td>November</td>\n",
              "      <td>Maine</td>\n",
              "      <td>Aroostook County</td>\n",
              "      <td>9.0</td>\n",
              "    </tr>\n",
              "  </tbody>\n",
              "</table>\n",
              "<p>885548 rows × 7 columns</p>\n",
              "</div>"
            ],
            "text/plain": [
              "        sec1  sec2  Year     Month        State              County  Rate\n",
              "0          1     1  2015  February  Mississippi       Newton County   6.1\n",
              "1          1     1  2015  February  Mississippi       Panola County   9.4\n",
              "2          1     1  2015  February  Mississippi       Monroe County   7.9\n",
              "3          1     1  2015  February  Mississippi        Hinds County   6.1\n",
              "4          1     1  2015  February  Mississippi       Kemper County  10.6\n",
              "...      ...   ...   ...       ...          ...                 ...   ...\n",
              "885543     1     1  2009  November        Maine     Somerset County  10.5\n",
              "885544     1     1  2009  November        Maine       Oxford County  10.5\n",
              "885545     1     1  2009  November        Maine         Knox County   7.5\n",
              "885546     1     1  2009  November        Maine  Piscataquis County  11.3\n",
              "885547     1     1  2009  November        Maine    Aroostook County   9.0\n",
              "\n",
              "[885548 rows x 7 columns]"
            ]
          },
          "metadata": {},
          "execution_count": 328
        }
      ]
    },
    {
      "cell_type": "code",
      "metadata": {
        "colab": {
          "base_uri": "https://localhost:8080/"
        },
        "id": "SdilOfa7Kp0r",
        "outputId": "3774a94c-0e2e-4fe6-f397-df3757c58ec5"
      },
      "source": [
        "print(pd.unique(df.Year))\n",
        "print(pd.unique(df.sec1))\n",
        "print(pd.unique(df.Month))\n",
        "print(pd.unique(df.Rate))"
      ],
      "execution_count": 331,
      "outputs": [
        {
          "output_type": "stream",
          "name": "stdout",
          "text": [
            "[2015 2014 2016 2011 2010 2013 2012 1991 1990 1993 1992 1995 1994 1997\n",
            " 1996 1999 1998 2002 2003 2000 2001 2006 2007 2004 2005 2008 2009]\n",
            "[1]\n",
            "['February' 'October' 'March' 'August' 'May' 'January' 'June' 'September'\n",
            " 'April' 'December' 'July' 'November']\n",
            "[ 6.1  9.4  7.9 10.6  6.9 14.3  4.5 11.1 11.5  7.6  5.5  8.6  4.7  5.9\n",
            "  5.   7.4  7.5  5.7 12.6  6.6  8.3  8.5  8.2  7.7  7.3  6.2  7.2 12.1\n",
            " 10.3  8.1  5.6 15.4 11.3 11.7  7.1  6.8  5.8  5.4 11.4 13.   6.7  6.\n",
            "  7.   4.8  9.8  4.1 21.5  6.4  8.7 13.3  8.4  6.3  7.8  2.6  6.5  2.8\n",
            "  4.3  3.7  3.9  3.4  3.5  3.6  2.5  4.   4.2  3.   3.8  2.2  4.4  5.3\n",
            "  3.3  9.3  2.1  5.2  2.9  4.9  4.6  9.5  5.1 12.7  3.1  8.   9.2  8.9\n",
            " 10.1  8.8  9.6 11.9 10.2  9.  21.2 10.4 10.8 11.  15.6 10.   9.9 12.2\n",
            " 10.5 10.9 16.  16.1  9.1  3.2 10.7  9.7 19.  14.4  2.4  2.3  2.7 14.5\n",
            " 15.  14.  13.8 11.8 13.9 22.3 12.3 22.8 12.4 12.  13.4 11.2 14.1 16.7\n",
            " 14.2 14.7 11.6  1.8  1.6 13.1  1.9  2.   1.7 15.5 18.4 14.6 12.8 12.5\n",
            "  1.4  1.3 24.5  1.5  1.2 13.5 13.6 12.9 19.1 17.9 22.7 21.4 13.7 17.5\n",
            " 15.7 16.8 13.2 26.1 26.9 14.9 15.8 17.2 15.3 17.6 18.7 24.3 23.5 16.6\n",
            " 15.1 23.6 22.9 16.2 17.4 19.3 16.4 23.4 17.3 15.2 18.8 17.1 14.8 22.4\n",
            " 23.9 15.9 24.7 25.  20.8 24.1 19.5 19.4 16.5 25.5 27.4 18.  23.  19.8\n",
            " 21.9 20.7 21.8 16.9 25.6 20.3 19.2 20.6 24.  16.3 18.1 24.2  1.   1.1\n",
            "  0.9 25.2 19.9 21.  18.2 28.7 20.9 20.2 24.9 23.2 23.3 17.  22.5 17.8\n",
            " 24.8 17.7 25.1 18.5 26.4 18.3 19.7 18.6 26.2 28.4 19.6 20.1 20.4 24.4\n",
            " 20.5 22.2 23.8 22.1 21.3 18.9 20.  29.9 25.8 26.5 28.5 27.3 31.8 28.1\n",
            " 23.1 21.1 27.2 27.5 30.3 22.6 21.6 25.9 26.3 29.  25.7 30.9 26.8 28.\n",
            " 31.9 25.3 28.2 24.6 26.7 27.6 23.7 21.7 31.  30.5 29.3 26.  22.  30.6\n",
            " 27.  30.8 26.6 27.8 29.2 31.3 25.4 32.2 31.6 34.7  0.8 28.3 31.5  0.\n",
            " 41.7 54.   0.4  0.7 33.1 40.7 51.3  0.6 34.3  0.5 28.9 35.8 31.7 32.5\n",
            " 27.7 37.4 53.  43.3 29.8 36.3 41.8 30.1 50.  40.  32.6 38.9 35.5 29.7\n",
            " 30.7 42.4 27.1 41.2 34.8  0.3 32.9 33.4 49.2 29.4 34.1  0.2 34.9 52.6\n",
            " 29.6 33.7 29.1 29.5 27.9 48.6 32.  45.  33.9 39.9 37.6 36.7 40.5 40.2\n",
            " 36.5 28.8 34.  34.5 39.7 36.8 35.1 42.6 34.2 41.9 34.6 56.5 37.5 28.6\n",
            " 54.9 42.2 33.8 38.1 40.3 58.4 40.4 32.3 31.2 30.2 38.3 53.3 37.  30.4\n",
            " 37.3 38.5 38.4 33.5 32.4 39.5 35.6 33.2 38.  35.3 33.  36.4 35.  30.\n",
            " 35.9 36.2 36.9 38.7 36.6 39.2 35.4 32.7 37.2 36.  32.1 31.4 36.1 42.5\n",
            " 37.1 33.6 38.8 33.3 39.  42.  35.2 34.4 35.7 31.1 32.8]\n"
          ]
        }
      ]
    },
    {
      "cell_type": "code",
      "metadata": {
        "colab": {
          "base_uri": "https://localhost:8080/",
          "height": 423
        },
        "id": "Ar1aJlFa9lkv",
        "outputId": "75e8f101-0325-452e-d577-e1e0fff2c257"
      },
      "source": [
        "df.loc[df.Year == 1990, \"sec1\"] = 1\n",
        "df.loc[df.Year == 1991, \"sec1\"] = 2\n",
        "df.loc[df.Year == 1992, \"sec1\"] = 3\n",
        "df.loc[df.Year == 1993, \"sec1\"] = 4\n",
        "df.loc[df.Year == 1994, \"sec1\"] = 5\n",
        "df.loc[df.Year == 1995, \"sec1\"] = 6\n",
        "df.loc[df.Year == 1996, \"sec1\"] = 7\n",
        "df.loc[df.Year == 1997, \"sec1\"] = 8\n",
        "df.loc[df.Year == 1998, \"sec1\"] = 9\n",
        "df.loc[df.Year == 1999, \"sec1\"] = 10\n",
        "df.loc[df.Year == 2000, \"sec1\"] = 11\n",
        "df.loc[df.Year == 2001, \"sec1\"] = 12\n",
        "df.loc[df.Year == 2002, \"sec1\"] = 13\n",
        "df.loc[df.Year == 2003, \"sec1\"] = 14\n",
        "df.loc[df.Year == 2004, \"sec1\"] = 15\n",
        "df.loc[df.Year == 2005, \"sec1\"] = 16\n",
        "df.loc[df.Year == 2006, \"sec1\"] = 17\n",
        "df.loc[df.Year == 2007, \"sec1\"] = 18\n",
        "df.loc[df.Year == 2008, \"sec1\"] = 19\n",
        "df.loc[df.Year == 2009, \"sec1\"] = 20\n",
        "df.loc[df.Year == 2010, \"sec1\"] = 21\n",
        "df.loc[df.Year == 2011, \"sec1\"] = 22\n",
        "df.loc[df.Year == 2012, \"sec1\"] = 23\n",
        "df.loc[df.Year == 2013, \"sec1\"] = 24\n",
        "df.loc[df.Year == 2014, \"sec1\"] = 25\n",
        "df.loc[df.Year == 2015, \"sec1\"] = 26\n",
        "df.loc[df.Year == 2016, \"sec1\"] = 27\n",
        "df.loc[df.Month == 'January', \"sec2\"] = 1\n",
        "df.loc[df.Month == 'February', \"sec2\"] = 2\n",
        "df.loc[df.Month == 'March', \"sec2\"] = 3\n",
        "df.loc[df.Month == 'April', \"sec2\"] = 4\n",
        "df.loc[df.Month == 'May', \"sec2\"] = 5\n",
        "df.loc[df.Month == 'June', \"sec2\"] = 6\n",
        "df.loc[df.Month == 'July', \"sec2\"] = 7\n",
        "df.loc[df.Month == 'August', \"sec2\"] = 8\n",
        "df.loc[df.Month == 'September', \"sec2\"] = 9\n",
        "df.loc[df.Month == 'October', \"sec2\"] = 10\n",
        "df.loc[df.Month == 'November', \"sec2\"] = 11\n",
        "df.loc[df.Month == 'December', \"sec2\"] = 12\n",
        "df"
      ],
      "execution_count": 332,
      "outputs": [
        {
          "output_type": "execute_result",
          "data": {
            "text/html": [
              "<div>\n",
              "<style scoped>\n",
              "    .dataframe tbody tr th:only-of-type {\n",
              "        vertical-align: middle;\n",
              "    }\n",
              "\n",
              "    .dataframe tbody tr th {\n",
              "        vertical-align: top;\n",
              "    }\n",
              "\n",
              "    .dataframe thead th {\n",
              "        text-align: right;\n",
              "    }\n",
              "</style>\n",
              "<table border=\"1\" class=\"dataframe\">\n",
              "  <thead>\n",
              "    <tr style=\"text-align: right;\">\n",
              "      <th></th>\n",
              "      <th>sec1</th>\n",
              "      <th>sec2</th>\n",
              "      <th>Year</th>\n",
              "      <th>Month</th>\n",
              "      <th>State</th>\n",
              "      <th>County</th>\n",
              "      <th>Rate</th>\n",
              "    </tr>\n",
              "  </thead>\n",
              "  <tbody>\n",
              "    <tr>\n",
              "      <th>0</th>\n",
              "      <td>26</td>\n",
              "      <td>2</td>\n",
              "      <td>2015</td>\n",
              "      <td>February</td>\n",
              "      <td>Mississippi</td>\n",
              "      <td>Newton County</td>\n",
              "      <td>6.1</td>\n",
              "    </tr>\n",
              "    <tr>\n",
              "      <th>1</th>\n",
              "      <td>26</td>\n",
              "      <td>2</td>\n",
              "      <td>2015</td>\n",
              "      <td>February</td>\n",
              "      <td>Mississippi</td>\n",
              "      <td>Panola County</td>\n",
              "      <td>9.4</td>\n",
              "    </tr>\n",
              "    <tr>\n",
              "      <th>2</th>\n",
              "      <td>26</td>\n",
              "      <td>2</td>\n",
              "      <td>2015</td>\n",
              "      <td>February</td>\n",
              "      <td>Mississippi</td>\n",
              "      <td>Monroe County</td>\n",
              "      <td>7.9</td>\n",
              "    </tr>\n",
              "    <tr>\n",
              "      <th>3</th>\n",
              "      <td>26</td>\n",
              "      <td>2</td>\n",
              "      <td>2015</td>\n",
              "      <td>February</td>\n",
              "      <td>Mississippi</td>\n",
              "      <td>Hinds County</td>\n",
              "      <td>6.1</td>\n",
              "    </tr>\n",
              "    <tr>\n",
              "      <th>4</th>\n",
              "      <td>26</td>\n",
              "      <td>2</td>\n",
              "      <td>2015</td>\n",
              "      <td>February</td>\n",
              "      <td>Mississippi</td>\n",
              "      <td>Kemper County</td>\n",
              "      <td>10.6</td>\n",
              "    </tr>\n",
              "    <tr>\n",
              "      <th>...</th>\n",
              "      <td>...</td>\n",
              "      <td>...</td>\n",
              "      <td>...</td>\n",
              "      <td>...</td>\n",
              "      <td>...</td>\n",
              "      <td>...</td>\n",
              "      <td>...</td>\n",
              "    </tr>\n",
              "    <tr>\n",
              "      <th>885543</th>\n",
              "      <td>20</td>\n",
              "      <td>11</td>\n",
              "      <td>2009</td>\n",
              "      <td>November</td>\n",
              "      <td>Maine</td>\n",
              "      <td>Somerset County</td>\n",
              "      <td>10.5</td>\n",
              "    </tr>\n",
              "    <tr>\n",
              "      <th>885544</th>\n",
              "      <td>20</td>\n",
              "      <td>11</td>\n",
              "      <td>2009</td>\n",
              "      <td>November</td>\n",
              "      <td>Maine</td>\n",
              "      <td>Oxford County</td>\n",
              "      <td>10.5</td>\n",
              "    </tr>\n",
              "    <tr>\n",
              "      <th>885545</th>\n",
              "      <td>20</td>\n",
              "      <td>11</td>\n",
              "      <td>2009</td>\n",
              "      <td>November</td>\n",
              "      <td>Maine</td>\n",
              "      <td>Knox County</td>\n",
              "      <td>7.5</td>\n",
              "    </tr>\n",
              "    <tr>\n",
              "      <th>885546</th>\n",
              "      <td>20</td>\n",
              "      <td>11</td>\n",
              "      <td>2009</td>\n",
              "      <td>November</td>\n",
              "      <td>Maine</td>\n",
              "      <td>Piscataquis County</td>\n",
              "      <td>11.3</td>\n",
              "    </tr>\n",
              "    <tr>\n",
              "      <th>885547</th>\n",
              "      <td>20</td>\n",
              "      <td>11</td>\n",
              "      <td>2009</td>\n",
              "      <td>November</td>\n",
              "      <td>Maine</td>\n",
              "      <td>Aroostook County</td>\n",
              "      <td>9.0</td>\n",
              "    </tr>\n",
              "  </tbody>\n",
              "</table>\n",
              "<p>885548 rows × 7 columns</p>\n",
              "</div>"
            ],
            "text/plain": [
              "        sec1  sec2  Year     Month        State              County  Rate\n",
              "0         26     2  2015  February  Mississippi       Newton County   6.1\n",
              "1         26     2  2015  February  Mississippi       Panola County   9.4\n",
              "2         26     2  2015  February  Mississippi       Monroe County   7.9\n",
              "3         26     2  2015  February  Mississippi        Hinds County   6.1\n",
              "4         26     2  2015  February  Mississippi       Kemper County  10.6\n",
              "...      ...   ...   ...       ...          ...                 ...   ...\n",
              "885543    20    11  2009  November        Maine     Somerset County  10.5\n",
              "885544    20    11  2009  November        Maine       Oxford County  10.5\n",
              "885545    20    11  2009  November        Maine         Knox County   7.5\n",
              "885546    20    11  2009  November        Maine  Piscataquis County  11.3\n",
              "885547    20    11  2009  November        Maine    Aroostook County   9.0\n",
              "\n",
              "[885548 rows x 7 columns]"
            ]
          },
          "metadata": {},
          "execution_count": 332
        }
      ]
    },
    {
      "cell_type": "code",
      "metadata": {
        "colab": {
          "base_uri": "https://localhost:8080/",
          "height": 269
        },
        "id": "qRv5pdv22Qhw",
        "outputId": "17a9d1de-69db-4f4c-8067-7aa08c79a064"
      },
      "source": [
        "sns.heatmap(df.corr(), annot = True, square = True);"
      ],
      "execution_count": 333,
      "outputs": [
        {
          "output_type": "display_data",
          "data": {
            "image/png": "[encoded data removed]",
            "text/plain": [
              "<Figure size 432x288 with 2 Axes>"
            ]
          },
          "metadata": {
            "needs_background": "light"
          }
        }
      ]
    },
    {
      "cell_type": "code",
      "metadata": {
        "colab": {
          "base_uri": "https://localhost:8080/",
          "height": 423
        },
        "id": "2ucxyaVbBvWf",
        "outputId": "c1adbe95-37d7-4bc5-c5fa-3232c8d46083"
      },
      "source": [
        "option = ['November']\n",
        "rd=df[df['Month'].isin(option)]\n",
        "rd"
      ],
      "execution_count": 334,
      "outputs": [
        {
          "output_type": "execute_result",
          "data": {
            "text/html": [
              "<div>\n",
              "<style scoped>\n",
              "    .dataframe tbody tr th:only-of-type {\n",
              "        vertical-align: middle;\n",
              "    }\n",
              "\n",
              "    .dataframe tbody tr th {\n",
              "        vertical-align: top;\n",
              "    }\n",
              "\n",
              "    .dataframe thead th {\n",
              "        text-align: right;\n",
              "    }\n",
              "</style>\n",
              "<table border=\"1\" class=\"dataframe\">\n",
              "  <thead>\n",
              "    <tr style=\"text-align: right;\">\n",
              "      <th></th>\n",
              "      <th>sec1</th>\n",
              "      <th>sec2</th>\n",
              "      <th>Year</th>\n",
              "      <th>Month</th>\n",
              "      <th>State</th>\n",
              "      <th>County</th>\n",
              "      <th>Rate</th>\n",
              "    </tr>\n",
              "  </thead>\n",
              "  <tbody>\n",
              "    <tr>\n",
              "      <th>30796</th>\n",
              "      <td>26</td>\n",
              "      <td>11</td>\n",
              "      <td>2015</td>\n",
              "      <td>November</td>\n",
              "      <td>Mississippi</td>\n",
              "      <td>Newton County</td>\n",
              "      <td>5.8</td>\n",
              "    </tr>\n",
              "    <tr>\n",
              "      <th>30797</th>\n",
              "      <td>26</td>\n",
              "      <td>11</td>\n",
              "      <td>2015</td>\n",
              "      <td>November</td>\n",
              "      <td>Mississippi</td>\n",
              "      <td>Panola County</td>\n",
              "      <td>8.0</td>\n",
              "    </tr>\n",
              "    <tr>\n",
              "      <th>30798</th>\n",
              "      <td>26</td>\n",
              "      <td>11</td>\n",
              "      <td>2015</td>\n",
              "      <td>November</td>\n",
              "      <td>Mississippi</td>\n",
              "      <td>Monroe County</td>\n",
              "      <td>6.8</td>\n",
              "    </tr>\n",
              "    <tr>\n",
              "      <th>30799</th>\n",
              "      <td>26</td>\n",
              "      <td>11</td>\n",
              "      <td>2015</td>\n",
              "      <td>November</td>\n",
              "      <td>Mississippi</td>\n",
              "      <td>Hinds County</td>\n",
              "      <td>5.7</td>\n",
              "    </tr>\n",
              "    <tr>\n",
              "      <th>30800</th>\n",
              "      <td>26</td>\n",
              "      <td>11</td>\n",
              "      <td>2015</td>\n",
              "      <td>November</td>\n",
              "      <td>Mississippi</td>\n",
              "      <td>Kemper County</td>\n",
              "      <td>9.3</td>\n",
              "    </tr>\n",
              "    <tr>\n",
              "      <th>...</th>\n",
              "      <td>...</td>\n",
              "      <td>...</td>\n",
              "      <td>...</td>\n",
              "      <td>...</td>\n",
              "      <td>...</td>\n",
              "      <td>...</td>\n",
              "      <td>...</td>\n",
              "    </tr>\n",
              "    <tr>\n",
              "      <th>885543</th>\n",
              "      <td>20</td>\n",
              "      <td>11</td>\n",
              "      <td>2009</td>\n",
              "      <td>November</td>\n",
              "      <td>Maine</td>\n",
              "      <td>Somerset County</td>\n",
              "      <td>10.5</td>\n",
              "    </tr>\n",
              "    <tr>\n",
              "      <th>885544</th>\n",
              "      <td>20</td>\n",
              "      <td>11</td>\n",
              "      <td>2009</td>\n",
              "      <td>November</td>\n",
              "      <td>Maine</td>\n",
              "      <td>Oxford County</td>\n",
              "      <td>10.5</td>\n",
              "    </tr>\n",
              "    <tr>\n",
              "      <th>885545</th>\n",
              "      <td>20</td>\n",
              "      <td>11</td>\n",
              "      <td>2009</td>\n",
              "      <td>November</td>\n",
              "      <td>Maine</td>\n",
              "      <td>Knox County</td>\n",
              "      <td>7.5</td>\n",
              "    </tr>\n",
              "    <tr>\n",
              "      <th>885546</th>\n",
              "      <td>20</td>\n",
              "      <td>11</td>\n",
              "      <td>2009</td>\n",
              "      <td>November</td>\n",
              "      <td>Maine</td>\n",
              "      <td>Piscataquis County</td>\n",
              "      <td>11.3</td>\n",
              "    </tr>\n",
              "    <tr>\n",
              "      <th>885547</th>\n",
              "      <td>20</td>\n",
              "      <td>11</td>\n",
              "      <td>2009</td>\n",
              "      <td>November</td>\n",
              "      <td>Maine</td>\n",
              "      <td>Aroostook County</td>\n",
              "      <td>9.0</td>\n",
              "    </tr>\n",
              "  </tbody>\n",
              "</table>\n",
              "<p>74092 rows × 7 columns</p>\n",
              "</div>"
            ],
            "text/plain": [
              "        sec1  sec2  Year     Month        State              County  Rate\n",
              "30796     26    11  2015  November  Mississippi       Newton County   5.8\n",
              "30797     26    11  2015  November  Mississippi       Panola County   8.0\n",
              "30798     26    11  2015  November  Mississippi       Monroe County   6.8\n",
              "30799     26    11  2015  November  Mississippi        Hinds County   5.7\n",
              "30800     26    11  2015  November  Mississippi       Kemper County   9.3\n",
              "...      ...   ...   ...       ...          ...                 ...   ...\n",
              "885543    20    11  2009  November        Maine     Somerset County  10.5\n",
              "885544    20    11  2009  November        Maine       Oxford County  10.5\n",
              "885545    20    11  2009  November        Maine         Knox County   7.5\n",
              "885546    20    11  2009  November        Maine  Piscataquis County  11.3\n",
              "885547    20    11  2009  November        Maine    Aroostook County   9.0\n",
              "\n",
              "[74092 rows x 7 columns]"
            ]
          },
          "metadata": {},
          "execution_count": 334
        }
      ]
    },
    {
      "cell_type": "code",
      "metadata": {
        "colab": {
          "base_uri": "https://localhost:8080/",
          "height": 423
        },
        "id": "QDavkpev_haO",
        "outputId": "ded2a624-12ed-48ca-ae95-bd22d6e0f1e5"
      },
      "source": [
        "#df = df.drop(columns=\"Year\")\n",
        "#df"
      ],
      "execution_count": 68,
      "outputs": [
        {
          "output_type": "execute_result",
          "data": {
            "text/html": [
              "<div>\n",
              "<style scoped>\n",
              "    .dataframe tbody tr th:only-of-type {\n",
              "        vertical-align: middle;\n",
              "    }\n",
              "\n",
              "    .dataframe tbody tr th {\n",
              "        vertical-align: top;\n",
              "    }\n",
              "\n",
              "    .dataframe thead th {\n",
              "        text-align: right;\n",
              "    }\n",
              "</style>\n",
              "<table border=\"1\" class=\"dataframe\">\n",
              "  <thead>\n",
              "    <tr style=\"text-align: right;\">\n",
              "      <th></th>\n",
              "      <th>Year</th>\n",
              "      <th>Month</th>\n",
              "      <th>State</th>\n",
              "      <th>County</th>\n",
              "      <th>Rate</th>\n",
              "    </tr>\n",
              "  </thead>\n",
              "  <tbody>\n",
              "    <tr>\n",
              "      <th>0</th>\n",
              "      <td>1990</td>\n",
              "      <td>February</td>\n",
              "      <td>Mississippi</td>\n",
              "      <td>Newton County</td>\n",
              "      <td>6.1</td>\n",
              "    </tr>\n",
              "    <tr>\n",
              "      <th>1</th>\n",
              "      <td>1990</td>\n",
              "      <td>February</td>\n",
              "      <td>Mississippi</td>\n",
              "      <td>Panola County</td>\n",
              "      <td>9.4</td>\n",
              "    </tr>\n",
              "    <tr>\n",
              "      <th>2</th>\n",
              "      <td>1990</td>\n",
              "      <td>February</td>\n",
              "      <td>Mississippi</td>\n",
              "      <td>Monroe County</td>\n",
              "      <td>7.9</td>\n",
              "    </tr>\n",
              "    <tr>\n",
              "      <th>3</th>\n",
              "      <td>1990</td>\n",
              "      <td>February</td>\n",
              "      <td>Mississippi</td>\n",
              "      <td>Hinds County</td>\n",
              "      <td>6.1</td>\n",
              "    </tr>\n",
              "    <tr>\n",
              "      <th>4</th>\n",
              "      <td>1990</td>\n",
              "      <td>February</td>\n",
              "      <td>Mississippi</td>\n",
              "      <td>Kemper County</td>\n",
              "      <td>10.6</td>\n",
              "    </tr>\n",
              "    <tr>\n",
              "      <th>...</th>\n",
              "      <td>...</td>\n",
              "      <td>...</td>\n",
              "      <td>...</td>\n",
              "      <td>...</td>\n",
              "      <td>...</td>\n",
              "    </tr>\n",
              "    <tr>\n",
              "      <th>885543</th>\n",
              "      <td>1990</td>\n",
              "      <td>November</td>\n",
              "      <td>Maine</td>\n",
              "      <td>Somerset County</td>\n",
              "      <td>10.5</td>\n",
              "    </tr>\n",
              "    <tr>\n",
              "      <th>885544</th>\n",
              "      <td>1990</td>\n",
              "      <td>November</td>\n",
              "      <td>Maine</td>\n",
              "      <td>Oxford County</td>\n",
              "      <td>10.5</td>\n",
              "    </tr>\n",
              "    <tr>\n",
              "      <th>885545</th>\n",
              "      <td>1990</td>\n",
              "      <td>November</td>\n",
              "      <td>Maine</td>\n",
              "      <td>Knox County</td>\n",
              "      <td>7.5</td>\n",
              "    </tr>\n",
              "    <tr>\n",
              "      <th>885546</th>\n",
              "      <td>1990</td>\n",
              "      <td>November</td>\n",
              "      <td>Maine</td>\n",
              "      <td>Piscataquis County</td>\n",
              "      <td>11.3</td>\n",
              "    </tr>\n",
              "    <tr>\n",
              "      <th>885547</th>\n",
              "      <td>1990</td>\n",
              "      <td>November</td>\n",
              "      <td>Maine</td>\n",
              "      <td>Aroostook County</td>\n",
              "      <td>9.0</td>\n",
              "    </tr>\n",
              "  </tbody>\n",
              "</table>\n",
              "<p>885548 rows × 5 columns</p>\n",
              "</div>"
            ],
            "text/plain": [
              "        Year     Month        State              County  Rate\n",
              "0       1990  February  Mississippi       Newton County   6.1\n",
              "1       1990  February  Mississippi       Panola County   9.4\n",
              "2       1990  February  Mississippi       Monroe County   7.9\n",
              "3       1990  February  Mississippi        Hinds County   6.1\n",
              "4       1990  February  Mississippi       Kemper County  10.6\n",
              "...      ...       ...          ...                 ...   ...\n",
              "885543  1990  November        Maine     Somerset County  10.5\n",
              "885544  1990  November        Maine       Oxford County  10.5\n",
              "885545  1990  November        Maine         Knox County   7.5\n",
              "885546  1990  November        Maine  Piscataquis County  11.3\n",
              "885547  1990  November        Maine    Aroostook County   9.0\n",
              "\n",
              "[885548 rows x 5 columns]"
            ]
          },
          "metadata": {},
          "execution_count": 68
        }
      ]
    },
    {
      "cell_type": "code",
      "metadata": {
        "id": "0Ind1-hS_u1A"
      },
      "source": [
        ""
      ],
      "execution_count": null,
      "outputs": []
    },
    {
      "cell_type": "code",
      "metadata": {
        "id": "KtcoQNYDuYgX"
      },
      "source": [
        "des_x = df[['sec2']]"
      ],
      "execution_count": 335,
      "outputs": []
    },
    {
      "cell_type": "code",
      "metadata": {
        "id": "1Y-fn6lAutma"
      },
      "source": [
        "des_y = df[['Rate']]"
      ],
      "execution_count": 336,
      "outputs": []
    },
    {
      "cell_type": "code",
      "metadata": {
        "id": "Q77QekiTuxkX"
      },
      "source": [
        "regr = linear_model.LinearRegression()"
      ],
      "execution_count": 337,
      "outputs": []
    },
    {
      "cell_type": "code",
      "metadata": {
        "colab": {
          "base_uri": "https://localhost:8080/"
        },
        "id": "binOR5fSu-D9",
        "outputId": "550e5104-8dd4-4581-e803-76a3b53be63d"
      },
      "source": [
        "regr.fit(des_x, des_y)"
      ],
      "execution_count": 338,
      "outputs": [
        {
          "output_type": "execute_result",
          "data": {
            "text/plain": [
              "LinearRegression()"
            ]
          },
          "metadata": {},
          "execution_count": 338
        }
      ]
    },
    {
      "cell_type": "code",
      "metadata": {
        "id": "nOggUUh8x6at"
      },
      "source": [
        "from sklearn.model_selection import train_test_split"
      ],
      "execution_count": 339,
      "outputs": []
    },
    {
      "cell_type": "code",
      "metadata": {
        "id": "hTIivFMcwhmQ"
      },
      "source": [
        "desx_train, desx_test, desy_train, desy_test = train_test_split(\n",
        "                      des_x, des_y, test_size=0.30, random_state=42)\n"
      ],
      "execution_count": 340,
      "outputs": []
    },
    {
      "cell_type": "code",
      "metadata": {
        "id": "62naCfoLzC-X"
      },
      "source": [
        "regl = linear_model.LinearRegression()"
      ],
      "execution_count": 341,
      "outputs": []
    },
    {
      "cell_type": "code",
      "metadata": {
        "colab": {
          "base_uri": "https://localhost:8080/"
        },
        "id": "mhIIPscqyHrK",
        "outputId": "01fa6831-53ec-4be2-cdb7-764dbd4ce3dc"
      },
      "source": [
        "regl.fit(desx_train, desy_train) \n",
        "print(regl.score(desx_test, desy_test))"
      ],
      "execution_count": 342,
      "outputs": [
        {
          "output_type": "stream",
          "name": "stdout",
          "text": [
            "0.020171346771208798\n"
          ]
        }
      ]
    },
    {
      "cell_type": "code",
      "metadata": {
        "id": "9BFcFB5Xzgod"
      },
      "source": [
        "regl_pred=regl.predict(desx_test)"
      ],
      "execution_count": 343,
      "outputs": []
    },
    {
      "cell_type": "code",
      "metadata": {
        "colab": {
          "base_uri": "https://localhost:8080/"
        },
        "id": "1Uwt3E51ztZ_",
        "outputId": "ceb3d905-d131-4253-afc3-6f89db0411f8"
      },
      "source": [
        "# los coeficientes\n",
        "print(\"Coefficients: \\n\", regr.coef_)"
      ],
      "execution_count": 344,
      "outputs": [
        {
          "output_type": "stream",
          "name": "stdout",
          "text": [
            "Coefficients: \n",
            " [[-0.12839659]]\n"
          ]
        }
      ]
    },
    {
      "cell_type": "code",
      "metadata": {
        "colab": {
          "base_uri": "https://localhost:8080/"
        },
        "id": "0Suf9e4Kz2cM",
        "outputId": "d13f2446-2824-4596-8f62-e32f323d56ef"
      },
      "source": [
        "# El error cuadratico medio\n",
        "print(\"Mean squared error: %.2f\" % mean_squared_error(desx_test, regl_pred))"
      ],
      "execution_count": 345,
      "outputs": [
        {
          "output_type": "stream",
          "name": "stdout",
          "text": [
            "Mean squared error: 15.29\n"
          ]
        }
      ]
    },
    {
      "cell_type": "code",
      "metadata": {
        "colab": {
          "base_uri": "https://localhost:8080/"
        },
        "id": "wiE1Nlrk0IAP",
        "outputId": "3ca19f9a-5d91-4753-874a-8ccf6004aa60"
      },
      "source": [
        "# El coeficientes de determinación: 1 es predicción perfecta\n",
        "print(\"Coefficient of determination: %.2f\" % r2_score(desy_test, regl_pred))"
      ],
      "execution_count": 346,
      "outputs": [
        {
          "output_type": "stream",
          "name": "stdout",
          "text": [
            "Coefficient of determination: 0.02\n"
          ]
        }
      ]
    },
    {
      "cell_type": "code",
      "metadata": {
        "colab": {
          "base_uri": "https://localhost:8080/",
          "height": 252
        },
        "id": "wDchFFH9zzrY",
        "outputId": "0f5e9403-e7bf-4efe-fad2-49d1886c7141"
      },
      "source": [
        "# Plot outputs\n",
        "plt.scatter(desx_test, desy_test, color=\"green\")\n",
        "plt.plot(desx_test, regl_pred, color=\"blue\", linewidth=3)\n",
        "\n",
        "plt.xticks(())\n",
        "plt.yticks(())\n",
        "\n",
        "plt.show()"
      ],
      "execution_count": 348,
      "outputs": [
        {
          "output_type": "display_data",
          "data": {
            "image/png": "[encoded data removed]",
            "text/plain": [
              "<Figure size 432x288 with 1 Axes>"
            ]
          },
          "metadata": {}
        }
      ]
    },
    {
      "cell_type": "markdown",
      "metadata": {
        "id": "oIyN45u5_CM9"
      },
      "source": [
        "# **# Regresión Logística**"
      ]
    },
    {
      "cell_type": "code",
      "metadata": {
        "id": "1ehpd7wd_Jo_"
      },
      "source": [
        "df = pd.read_csv('output.csv')"
      ],
      "execution_count": 384,
      "outputs": []
    },
    {
      "cell_type": "code",
      "metadata": {
        "colab": {
          "base_uri": "https://localhost:8080/",
          "height": 206
        },
        "id": "MGJNpA2X_YmT",
        "outputId": "072f318b-9d58-4ca1-9b2e-808d4f0a8f93"
      },
      "source": [
        "df.head()"
      ],
      "execution_count": 388,
      "outputs": [
        {
          "output_type": "execute_result",
          "data": {
            "text/html": [
              "<div>\n",
              "<style scoped>\n",
              "    .dataframe tbody tr th:only-of-type {\n",
              "        vertical-align: middle;\n",
              "    }\n",
              "\n",
              "    .dataframe tbody tr th {\n",
              "        vertical-align: top;\n",
              "    }\n",
              "\n",
              "    .dataframe thead th {\n",
              "        text-align: right;\n",
              "    }\n",
              "</style>\n",
              "<table border=\"1\" class=\"dataframe\">\n",
              "  <thead>\n",
              "    <tr style=\"text-align: right;\">\n",
              "      <th></th>\n",
              "      <th>sec1</th>\n",
              "      <th>Year</th>\n",
              "      <th>Month</th>\n",
              "      <th>State</th>\n",
              "      <th>County</th>\n",
              "      <th>Rate</th>\n",
              "    </tr>\n",
              "  </thead>\n",
              "  <tbody>\n",
              "    <tr>\n",
              "      <th>0</th>\n",
              "      <td>1</td>\n",
              "      <td>2015</td>\n",
              "      <td>February</td>\n",
              "      <td>Mississippi</td>\n",
              "      <td>Newton County</td>\n",
              "      <td>6.1</td>\n",
              "    </tr>\n",
              "    <tr>\n",
              "      <th>1</th>\n",
              "      <td>1</td>\n",
              "      <td>2015</td>\n",
              "      <td>February</td>\n",
              "      <td>Mississippi</td>\n",
              "      <td>Panola County</td>\n",
              "      <td>9.4</td>\n",
              "    </tr>\n",
              "    <tr>\n",
              "      <th>2</th>\n",
              "      <td>1</td>\n",
              "      <td>2015</td>\n",
              "      <td>February</td>\n",
              "      <td>Mississippi</td>\n",
              "      <td>Monroe County</td>\n",
              "      <td>7.9</td>\n",
              "    </tr>\n",
              "    <tr>\n",
              "      <th>3</th>\n",
              "      <td>1</td>\n",
              "      <td>2015</td>\n",
              "      <td>February</td>\n",
              "      <td>Mississippi</td>\n",
              "      <td>Hinds County</td>\n",
              "      <td>6.1</td>\n",
              "    </tr>\n",
              "    <tr>\n",
              "      <th>4</th>\n",
              "      <td>1</td>\n",
              "      <td>2015</td>\n",
              "      <td>February</td>\n",
              "      <td>Mississippi</td>\n",
              "      <td>Kemper County</td>\n",
              "      <td>10.6</td>\n",
              "    </tr>\n",
              "  </tbody>\n",
              "</table>\n",
              "</div>"
            ],
            "text/plain": [
              "   sec1  Year     Month        State         County  Rate\n",
              "0     1  2015  February  Mississippi  Newton County   6.1\n",
              "1     1  2015  February  Mississippi  Panola County   9.4\n",
              "2     1  2015  February  Mississippi  Monroe County   7.9\n",
              "3     1  2015  February  Mississippi   Hinds County   6.1\n",
              "4     1  2015  February  Mississippi  Kemper County  10.6"
            ]
          },
          "metadata": {},
          "execution_count": 388
        }
      ]
    },
    {
      "cell_type": "code",
      "metadata": {
        "colab": {
          "base_uri": "https://localhost:8080/",
          "height": 423
        },
        "id": "Cg-Egm6Z_xSF",
        "outputId": "58cc3adf-25f5-413b-8813-d9e327ccc39b"
      },
      "source": [
        "df.insert(0,'sec1',1 ,allow_duplicates=True)\n",
        "df"
      ],
      "execution_count": 387,
      "outputs": [
        {
          "output_type": "execute_result",
          "data": {
            "text/html": [
              "<div>\n",
              "<style scoped>\n",
              "    .dataframe tbody tr th:only-of-type {\n",
              "        vertical-align: middle;\n",
              "    }\n",
              "\n",
              "    .dataframe tbody tr th {\n",
              "        vertical-align: top;\n",
              "    }\n",
              "\n",
              "    .dataframe thead th {\n",
              "        text-align: right;\n",
              "    }\n",
              "</style>\n",
              "<table border=\"1\" class=\"dataframe\">\n",
              "  <thead>\n",
              "    <tr style=\"text-align: right;\">\n",
              "      <th></th>\n",
              "      <th>sec1</th>\n",
              "      <th>Year</th>\n",
              "      <th>Month</th>\n",
              "      <th>State</th>\n",
              "      <th>County</th>\n",
              "      <th>Rate</th>\n",
              "    </tr>\n",
              "  </thead>\n",
              "  <tbody>\n",
              "    <tr>\n",
              "      <th>0</th>\n",
              "      <td>1</td>\n",
              "      <td>2015</td>\n",
              "      <td>February</td>\n",
              "      <td>Mississippi</td>\n",
              "      <td>Newton County</td>\n",
              "      <td>6.1</td>\n",
              "    </tr>\n",
              "    <tr>\n",
              "      <th>1</th>\n",
              "      <td>1</td>\n",
              "      <td>2015</td>\n",
              "      <td>February</td>\n",
              "      <td>Mississippi</td>\n",
              "      <td>Panola County</td>\n",
              "      <td>9.4</td>\n",
              "    </tr>\n",
              "    <tr>\n",
              "      <th>2</th>\n",
              "      <td>1</td>\n",
              "      <td>2015</td>\n",
              "      <td>February</td>\n",
              "      <td>Mississippi</td>\n",
              "      <td>Monroe County</td>\n",
              "      <td>7.9</td>\n",
              "    </tr>\n",
              "    <tr>\n",
              "      <th>3</th>\n",
              "      <td>1</td>\n",
              "      <td>2015</td>\n",
              "      <td>February</td>\n",
              "      <td>Mississippi</td>\n",
              "      <td>Hinds County</td>\n",
              "      <td>6.1</td>\n",
              "    </tr>\n",
              "    <tr>\n",
              "      <th>4</th>\n",
              "      <td>1</td>\n",
              "      <td>2015</td>\n",
              "      <td>February</td>\n",
              "      <td>Mississippi</td>\n",
              "      <td>Kemper County</td>\n",
              "      <td>10.6</td>\n",
              "    </tr>\n",
              "    <tr>\n",
              "      <th>...</th>\n",
              "      <td>...</td>\n",
              "      <td>...</td>\n",
              "      <td>...</td>\n",
              "      <td>...</td>\n",
              "      <td>...</td>\n",
              "      <td>...</td>\n",
              "    </tr>\n",
              "    <tr>\n",
              "      <th>885543</th>\n",
              "      <td>1</td>\n",
              "      <td>2009</td>\n",
              "      <td>November</td>\n",
              "      <td>Maine</td>\n",
              "      <td>Somerset County</td>\n",
              "      <td>10.5</td>\n",
              "    </tr>\n",
              "    <tr>\n",
              "      <th>885544</th>\n",
              "      <td>1</td>\n",
              "      <td>2009</td>\n",
              "      <td>November</td>\n",
              "      <td>Maine</td>\n",
              "      <td>Oxford County</td>\n",
              "      <td>10.5</td>\n",
              "    </tr>\n",
              "    <tr>\n",
              "      <th>885545</th>\n",
              "      <td>1</td>\n",
              "      <td>2009</td>\n",
              "      <td>November</td>\n",
              "      <td>Maine</td>\n",
              "      <td>Knox County</td>\n",
              "      <td>7.5</td>\n",
              "    </tr>\n",
              "    <tr>\n",
              "      <th>885546</th>\n",
              "      <td>1</td>\n",
              "      <td>2009</td>\n",
              "      <td>November</td>\n",
              "      <td>Maine</td>\n",
              "      <td>Piscataquis County</td>\n",
              "      <td>11.3</td>\n",
              "    </tr>\n",
              "    <tr>\n",
              "      <th>885547</th>\n",
              "      <td>1</td>\n",
              "      <td>2009</td>\n",
              "      <td>November</td>\n",
              "      <td>Maine</td>\n",
              "      <td>Aroostook County</td>\n",
              "      <td>9.0</td>\n",
              "    </tr>\n",
              "  </tbody>\n",
              "</table>\n",
              "<p>885548 rows × 6 columns</p>\n",
              "</div>"
            ],
            "text/plain": [
              "        sec1  Year     Month        State              County  Rate\n",
              "0          1  2015  February  Mississippi       Newton County   6.1\n",
              "1          1  2015  February  Mississippi       Panola County   9.4\n",
              "2          1  2015  February  Mississippi       Monroe County   7.9\n",
              "3          1  2015  February  Mississippi        Hinds County   6.1\n",
              "4          1  2015  February  Mississippi       Kemper County  10.6\n",
              "...      ...   ...       ...          ...                 ...   ...\n",
              "885543     1  2009  November        Maine     Somerset County  10.5\n",
              "885544     1  2009  November        Maine       Oxford County  10.5\n",
              "885545     1  2009  November        Maine         Knox County   7.5\n",
              "885546     1  2009  November        Maine  Piscataquis County  11.3\n",
              "885547     1  2009  November        Maine    Aroostook County   9.0\n",
              "\n",
              "[885548 rows x 6 columns]"
            ]
          },
          "metadata": {},
          "execution_count": 387
        }
      ]
    },
    {
      "cell_type": "code",
      "metadata": {
        "colab": {
          "base_uri": "https://localhost:8080/",
          "height": 165
        },
        "id": "ArvcwkBgCbvf",
        "outputId": "2e80a8da-391b-4181-e135-2f022bf1008d"
      },
      "source": [
        "ndf = np.array[indices.astype(int)]"
      ],
      "execution_count": 363,
      "outputs": [
        {
          "output_type": "error",
          "ename": "NameError",
          "evalue": "ignored",
          "traceback": [
            "\u001b[0;31m---------------------------------------------------------------------------\u001b[0m",
            "\u001b[0;31mNameError\u001b[0m                                 Traceback (most recent call last)",
            "\u001b[0;32m<ipython-input-363-ea2037e58fc7>\u001b[0m in \u001b[0;36m<module>\u001b[0;34m()\u001b[0m\n\u001b[0;32m----> 1\u001b[0;31m \u001b[0mndf\u001b[0m \u001b[0;34m=\u001b[0m \u001b[0mnp\u001b[0m\u001b[0;34m.\u001b[0m\u001b[0marray\u001b[0m\u001b[0;34m[\u001b[0m\u001b[0mindices\u001b[0m\u001b[0;34m.\u001b[0m\u001b[0mastype\u001b[0m\u001b[0;34m(\u001b[0m\u001b[0mint\u001b[0m\u001b[0;34m)\u001b[0m\u001b[0;34m]\u001b[0m\u001b[0;34m\u001b[0m\u001b[0;34m\u001b[0m\u001b[0m\n\u001b[0m",
            "\u001b[0;31mNameError\u001b[0m: name 'indices' is not defined"
          ]
        }
      ]
    },
    {
      "cell_type": "code",
      "metadata": {
        "colab": {
          "base_uri": "https://localhost:8080/",
          "height": 423
        },
        "id": "KYGUjZGg_9_1",
        "outputId": "271da583-ea4c-4f54-de24-6345b0cce6c2"
      },
      "source": [
        "df.loc[df.Rate < 35, \"sec1\"] = 0\n",
        "df.loc[df.Rate > 67, \"sec1\"] = 2\n",
        "df.loc[(df.Rate > 35) & (df.Rate < 68), \"sec1\"] = 1\n",
        "df"
      ],
      "execution_count": 396,
      "outputs": [
        {
          "output_type": "execute_result",
          "data": {
            "text/html": [
              "<div>\n",
              "<style scoped>\n",
              "    .dataframe tbody tr th:only-of-type {\n",
              "        vertical-align: middle;\n",
              "    }\n",
              "\n",
              "    .dataframe tbody tr th {\n",
              "        vertical-align: top;\n",
              "    }\n",
              "\n",
              "    .dataframe thead th {\n",
              "        text-align: right;\n",
              "    }\n",
              "</style>\n",
              "<table border=\"1\" class=\"dataframe\">\n",
              "  <thead>\n",
              "    <tr style=\"text-align: right;\">\n",
              "      <th></th>\n",
              "      <th>sec1</th>\n",
              "      <th>Year</th>\n",
              "      <th>Month</th>\n",
              "      <th>State</th>\n",
              "      <th>County</th>\n",
              "      <th>Rate</th>\n",
              "    </tr>\n",
              "  </thead>\n",
              "  <tbody>\n",
              "    <tr>\n",
              "      <th>0</th>\n",
              "      <td>0</td>\n",
              "      <td>2015</td>\n",
              "      <td>February</td>\n",
              "      <td>Mississippi</td>\n",
              "      <td>Newton County</td>\n",
              "      <td>6.1</td>\n",
              "    </tr>\n",
              "    <tr>\n",
              "      <th>1</th>\n",
              "      <td>0</td>\n",
              "      <td>2015</td>\n",
              "      <td>February</td>\n",
              "      <td>Mississippi</td>\n",
              "      <td>Panola County</td>\n",
              "      <td>9.4</td>\n",
              "    </tr>\n",
              "    <tr>\n",
              "      <th>2</th>\n",
              "      <td>0</td>\n",
              "      <td>2015</td>\n",
              "      <td>February</td>\n",
              "      <td>Mississippi</td>\n",
              "      <td>Monroe County</td>\n",
              "      <td>7.9</td>\n",
              "    </tr>\n",
              "    <tr>\n",
              "      <th>3</th>\n",
              "      <td>0</td>\n",
              "      <td>2015</td>\n",
              "      <td>February</td>\n",
              "      <td>Mississippi</td>\n",
              "      <td>Hinds County</td>\n",
              "      <td>6.1</td>\n",
              "    </tr>\n",
              "    <tr>\n",
              "      <th>4</th>\n",
              "      <td>0</td>\n",
              "      <td>2015</td>\n",
              "      <td>February</td>\n",
              "      <td>Mississippi</td>\n",
              "      <td>Kemper County</td>\n",
              "      <td>10.6</td>\n",
              "    </tr>\n",
              "    <tr>\n",
              "      <th>...</th>\n",
              "      <td>...</td>\n",
              "      <td>...</td>\n",
              "      <td>...</td>\n",
              "      <td>...</td>\n",
              "      <td>...</td>\n",
              "      <td>...</td>\n",
              "    </tr>\n",
              "    <tr>\n",
              "      <th>885543</th>\n",
              "      <td>0</td>\n",
              "      <td>2009</td>\n",
              "      <td>November</td>\n",
              "      <td>Maine</td>\n",
              "      <td>Somerset County</td>\n",
              "      <td>10.5</td>\n",
              "    </tr>\n",
              "    <tr>\n",
              "      <th>885544</th>\n",
              "      <td>0</td>\n",
              "      <td>2009</td>\n",
              "      <td>November</td>\n",
              "      <td>Maine</td>\n",
              "      <td>Oxford County</td>\n",
              "      <td>10.5</td>\n",
              "    </tr>\n",
              "    <tr>\n",
              "      <th>885545</th>\n",
              "      <td>0</td>\n",
              "      <td>2009</td>\n",
              "      <td>November</td>\n",
              "      <td>Maine</td>\n",
              "      <td>Knox County</td>\n",
              "      <td>7.5</td>\n",
              "    </tr>\n",
              "    <tr>\n",
              "      <th>885546</th>\n",
              "      <td>0</td>\n",
              "      <td>2009</td>\n",
              "      <td>November</td>\n",
              "      <td>Maine</td>\n",
              "      <td>Piscataquis County</td>\n",
              "      <td>11.3</td>\n",
              "    </tr>\n",
              "    <tr>\n",
              "      <th>885547</th>\n",
              "      <td>0</td>\n",
              "      <td>2009</td>\n",
              "      <td>November</td>\n",
              "      <td>Maine</td>\n",
              "      <td>Aroostook County</td>\n",
              "      <td>9.0</td>\n",
              "    </tr>\n",
              "  </tbody>\n",
              "</table>\n",
              "<p>885548 rows × 6 columns</p>\n",
              "</div>"
            ],
            "text/plain": [
              "        sec1  Year     Month        State              County  Rate\n",
              "0          0  2015  February  Mississippi       Newton County   6.1\n",
              "1          0  2015  February  Mississippi       Panola County   9.4\n",
              "2          0  2015  February  Mississippi       Monroe County   7.9\n",
              "3          0  2015  February  Mississippi        Hinds County   6.1\n",
              "4          0  2015  February  Mississippi       Kemper County  10.6\n",
              "...      ...   ...       ...          ...                 ...   ...\n",
              "885543     0  2009  November        Maine     Somerset County  10.5\n",
              "885544     0  2009  November        Maine       Oxford County  10.5\n",
              "885545     0  2009  November        Maine         Knox County   7.5\n",
              "885546     0  2009  November        Maine  Piscataquis County  11.3\n",
              "885547     0  2009  November        Maine    Aroostook County   9.0\n",
              "\n",
              "[885548 rows x 6 columns]"
            ]
          },
          "metadata": {},
          "execution_count": 396
        }
      ]
    },
    {
      "cell_type": "code",
      "metadata": {
        "colab": {
          "base_uri": "https://localhost:8080/"
        },
        "id": "0T6faEmnF_sE",
        "outputId": "a52d375d-bd5a-40d6-802d-980a5a047377"
      },
      "source": [
        "print(pd.unique(df.sec1))"
      ],
      "execution_count": 402,
      "outputs": [
        {
          "output_type": "stream",
          "name": "stdout",
          "text": [
            "[0 1]\n"
          ]
        }
      ]
    },
    {
      "cell_type": "code",
      "metadata": {
        "colab": {
          "base_uri": "https://localhost:8080/",
          "height": 423
        },
        "id": "Hiz0dcGzIWA_",
        "outputId": "479e78ed-2b82-4026-eeea-7461f8b2c5c2"
      },
      "source": [
        "df.insert(1,'sec2',1 ,allow_duplicates=True)\n",
        "df"
      ],
      "execution_count": 403,
      "outputs": [
        {
          "output_type": "execute_result",
          "data": {
            "text/html": [
              "<div>\n",
              "<style scoped>\n",
              "    .dataframe tbody tr th:only-of-type {\n",
              "        vertical-align: middle;\n",
              "    }\n",
              "\n",
              "    .dataframe tbody tr th {\n",
              "        vertical-align: top;\n",
              "    }\n",
              "\n",
              "    .dataframe thead th {\n",
              "        text-align: right;\n",
              "    }\n",
              "</style>\n",
              "<table border=\"1\" class=\"dataframe\">\n",
              "  <thead>\n",
              "    <tr style=\"text-align: right;\">\n",
              "      <th></th>\n",
              "      <th>sec1</th>\n",
              "      <th>sec2</th>\n",
              "      <th>Year</th>\n",
              "      <th>Month</th>\n",
              "      <th>State</th>\n",
              "      <th>County</th>\n",
              "      <th>Rate</th>\n",
              "    </tr>\n",
              "  </thead>\n",
              "  <tbody>\n",
              "    <tr>\n",
              "      <th>0</th>\n",
              "      <td>0</td>\n",
              "      <td>1</td>\n",
              "      <td>2015</td>\n",
              "      <td>February</td>\n",
              "      <td>Mississippi</td>\n",
              "      <td>Newton County</td>\n",
              "      <td>6.1</td>\n",
              "    </tr>\n",
              "    <tr>\n",
              "      <th>1</th>\n",
              "      <td>0</td>\n",
              "      <td>1</td>\n",
              "      <td>2015</td>\n",
              "      <td>February</td>\n",
              "      <td>Mississippi</td>\n",
              "      <td>Panola County</td>\n",
              "      <td>9.4</td>\n",
              "    </tr>\n",
              "    <tr>\n",
              "      <th>2</th>\n",
              "      <td>0</td>\n",
              "      <td>1</td>\n",
              "      <td>2015</td>\n",
              "      <td>February</td>\n",
              "      <td>Mississippi</td>\n",
              "      <td>Monroe County</td>\n",
              "      <td>7.9</td>\n",
              "    </tr>\n",
              "    <tr>\n",
              "      <th>3</th>\n",
              "      <td>0</td>\n",
              "      <td>1</td>\n",
              "      <td>2015</td>\n",
              "      <td>February</td>\n",
              "      <td>Mississippi</td>\n",
              "      <td>Hinds County</td>\n",
              "      <td>6.1</td>\n",
              "    </tr>\n",
              "    <tr>\n",
              "      <th>4</th>\n",
              "      <td>0</td>\n",
              "      <td>1</td>\n",
              "      <td>2015</td>\n",
              "      <td>February</td>\n",
              "      <td>Mississippi</td>\n",
              "      <td>Kemper County</td>\n",
              "      <td>10.6</td>\n",
              "    </tr>\n",
              "    <tr>\n",
              "      <th>...</th>\n",
              "      <td>...</td>\n",
              "      <td>...</td>\n",
              "      <td>...</td>\n",
              "      <td>...</td>\n",
              "      <td>...</td>\n",
              "      <td>...</td>\n",
              "      <td>...</td>\n",
              "    </tr>\n",
              "    <tr>\n",
              "      <th>885543</th>\n",
              "      <td>0</td>\n",
              "      <td>1</td>\n",
              "      <td>2009</td>\n",
              "      <td>November</td>\n",
              "      <td>Maine</td>\n",
              "      <td>Somerset County</td>\n",
              "      <td>10.5</td>\n",
              "    </tr>\n",
              "    <tr>\n",
              "      <th>885544</th>\n",
              "      <td>0</td>\n",
              "      <td>1</td>\n",
              "      <td>2009</td>\n",
              "      <td>November</td>\n",
              "      <td>Maine</td>\n",
              "      <td>Oxford County</td>\n",
              "      <td>10.5</td>\n",
              "    </tr>\n",
              "    <tr>\n",
              "      <th>885545</th>\n",
              "      <td>0</td>\n",
              "      <td>1</td>\n",
              "      <td>2009</td>\n",
              "      <td>November</td>\n",
              "      <td>Maine</td>\n",
              "      <td>Knox County</td>\n",
              "      <td>7.5</td>\n",
              "    </tr>\n",
              "    <tr>\n",
              "      <th>885546</th>\n",
              "      <td>0</td>\n",
              "      <td>1</td>\n",
              "      <td>2009</td>\n",
              "      <td>November</td>\n",
              "      <td>Maine</td>\n",
              "      <td>Piscataquis County</td>\n",
              "      <td>11.3</td>\n",
              "    </tr>\n",
              "    <tr>\n",
              "      <th>885547</th>\n",
              "      <td>0</td>\n",
              "      <td>1</td>\n",
              "      <td>2009</td>\n",
              "      <td>November</td>\n",
              "      <td>Maine</td>\n",
              "      <td>Aroostook County</td>\n",
              "      <td>9.0</td>\n",
              "    </tr>\n",
              "  </tbody>\n",
              "</table>\n",
              "<p>885548 rows × 7 columns</p>\n",
              "</div>"
            ],
            "text/plain": [
              "        sec1  sec2  Year     Month        State              County  Rate\n",
              "0          0     1  2015  February  Mississippi       Newton County   6.1\n",
              "1          0     1  2015  February  Mississippi       Panola County   9.4\n",
              "2          0     1  2015  February  Mississippi       Monroe County   7.9\n",
              "3          0     1  2015  February  Mississippi        Hinds County   6.1\n",
              "4          0     1  2015  February  Mississippi       Kemper County  10.6\n",
              "...      ...   ...   ...       ...          ...                 ...   ...\n",
              "885543     0     1  2009  November        Maine     Somerset County  10.5\n",
              "885544     0     1  2009  November        Maine       Oxford County  10.5\n",
              "885545     0     1  2009  November        Maine         Knox County   7.5\n",
              "885546     0     1  2009  November        Maine  Piscataquis County  11.3\n",
              "885547     0     1  2009  November        Maine    Aroostook County   9.0\n",
              "\n",
              "[885548 rows x 7 columns]"
            ]
          },
          "metadata": {},
          "execution_count": 403
        }
      ]
    },
    {
      "cell_type": "code",
      "metadata": {
        "colab": {
          "base_uri": "https://localhost:8080/",
          "height": 423
        },
        "id": "udmblcmHIQlp",
        "outputId": "af31a24c-14a9-470f-b9dd-abf8aef19d5e"
      },
      "source": [
        "df.loc[df.Month == 'January', \"sec2\"] = 1\n",
        "df.loc[df.Month == 'February', \"sec2\"] = 2\n",
        "df.loc[df.Month == 'March', \"sec2\"] = 3\n",
        "df.loc[df.Month == 'April', \"sec2\"] = 4\n",
        "df.loc[df.Month == 'May', \"sec2\"] = 5\n",
        "df.loc[df.Month == 'June', \"sec2\"] = 6\n",
        "df.loc[df.Month == 'July', \"sec2\"] = 7\n",
        "df.loc[df.Month == 'August', \"sec2\"] = 8\n",
        "df.loc[df.Month == 'September', \"sec2\"] = 9\n",
        "df.loc[df.Month == 'October', \"sec2\"] = 10\n",
        "df.loc[df.Month == 'November', \"sec2\"] = 11\n",
        "df.loc[df.Month == 'December', \"sec2\"] = 12\n",
        "df"
      ],
      "execution_count": 404,
      "outputs": [
        {
          "output_type": "execute_result",
          "data": {
            "text/html": [
              "<div>\n",
              "<style scoped>\n",
              "    .dataframe tbody tr th:only-of-type {\n",
              "        vertical-align: middle;\n",
              "    }\n",
              "\n",
              "    .dataframe tbody tr th {\n",
              "        vertical-align: top;\n",
              "    }\n",
              "\n",
              "    .dataframe thead th {\n",
              "        text-align: right;\n",
              "    }\n",
              "</style>\n",
              "<table border=\"1\" class=\"dataframe\">\n",
              "  <thead>\n",
              "    <tr style=\"text-align: right;\">\n",
              "      <th></th>\n",
              "      <th>sec1</th>\n",
              "      <th>sec2</th>\n",
              "      <th>Year</th>\n",
              "      <th>Month</th>\n",
              "      <th>State</th>\n",
              "      <th>County</th>\n",
              "      <th>Rate</th>\n",
              "    </tr>\n",
              "  </thead>\n",
              "  <tbody>\n",
              "    <tr>\n",
              "      <th>0</th>\n",
              "      <td>0</td>\n",
              "      <td>2</td>\n",
              "      <td>2015</td>\n",
              "      <td>February</td>\n",
              "      <td>Mississippi</td>\n",
              "      <td>Newton County</td>\n",
              "      <td>6.1</td>\n",
              "    </tr>\n",
              "    <tr>\n",
              "      <th>1</th>\n",
              "      <td>0</td>\n",
              "      <td>2</td>\n",
              "      <td>2015</td>\n",
              "      <td>February</td>\n",
              "      <td>Mississippi</td>\n",
              "      <td>Panola County</td>\n",
              "      <td>9.4</td>\n",
              "    </tr>\n",
              "    <tr>\n",
              "      <th>2</th>\n",
              "      <td>0</td>\n",
              "      <td>2</td>\n",
              "      <td>2015</td>\n",
              "      <td>February</td>\n",
              "      <td>Mississippi</td>\n",
              "      <td>Monroe County</td>\n",
              "      <td>7.9</td>\n",
              "    </tr>\n",
              "    <tr>\n",
              "      <th>3</th>\n",
              "      <td>0</td>\n",
              "      <td>2</td>\n",
              "      <td>2015</td>\n",
              "      <td>February</td>\n",
              "      <td>Mississippi</td>\n",
              "      <td>Hinds County</td>\n",
              "      <td>6.1</td>\n",
              "    </tr>\n",
              "    <tr>\n",
              "      <th>4</th>\n",
              "      <td>0</td>\n",
              "      <td>2</td>\n",
              "      <td>2015</td>\n",
              "      <td>February</td>\n",
              "      <td>Mississippi</td>\n",
              "      <td>Kemper County</td>\n",
              "      <td>10.6</td>\n",
              "    </tr>\n",
              "    <tr>\n",
              "      <th>...</th>\n",
              "      <td>...</td>\n",
              "      <td>...</td>\n",
              "      <td>...</td>\n",
              "      <td>...</td>\n",
              "      <td>...</td>\n",
              "      <td>...</td>\n",
              "      <td>...</td>\n",
              "    </tr>\n",
              "    <tr>\n",
              "      <th>885543</th>\n",
              "      <td>0</td>\n",
              "      <td>11</td>\n",
              "      <td>2009</td>\n",
              "      <td>November</td>\n",
              "      <td>Maine</td>\n",
              "      <td>Somerset County</td>\n",
              "      <td>10.5</td>\n",
              "    </tr>\n",
              "    <tr>\n",
              "      <th>885544</th>\n",
              "      <td>0</td>\n",
              "      <td>11</td>\n",
              "      <td>2009</td>\n",
              "      <td>November</td>\n",
              "      <td>Maine</td>\n",
              "      <td>Oxford County</td>\n",
              "      <td>10.5</td>\n",
              "    </tr>\n",
              "    <tr>\n",
              "      <th>885545</th>\n",
              "      <td>0</td>\n",
              "      <td>11</td>\n",
              "      <td>2009</td>\n",
              "      <td>November</td>\n",
              "      <td>Maine</td>\n",
              "      <td>Knox County</td>\n",
              "      <td>7.5</td>\n",
              "    </tr>\n",
              "    <tr>\n",
              "      <th>885546</th>\n",
              "      <td>0</td>\n",
              "      <td>11</td>\n",
              "      <td>2009</td>\n",
              "      <td>November</td>\n",
              "      <td>Maine</td>\n",
              "      <td>Piscataquis County</td>\n",
              "      <td>11.3</td>\n",
              "    </tr>\n",
              "    <tr>\n",
              "      <th>885547</th>\n",
              "      <td>0</td>\n",
              "      <td>11</td>\n",
              "      <td>2009</td>\n",
              "      <td>November</td>\n",
              "      <td>Maine</td>\n",
              "      <td>Aroostook County</td>\n",
              "      <td>9.0</td>\n",
              "    </tr>\n",
              "  </tbody>\n",
              "</table>\n",
              "<p>885548 rows × 7 columns</p>\n",
              "</div>"
            ],
            "text/plain": [
              "        sec1  sec2  Year     Month        State              County  Rate\n",
              "0          0     2  2015  February  Mississippi       Newton County   6.1\n",
              "1          0     2  2015  February  Mississippi       Panola County   9.4\n",
              "2          0     2  2015  February  Mississippi       Monroe County   7.9\n",
              "3          0     2  2015  February  Mississippi        Hinds County   6.1\n",
              "4          0     2  2015  February  Mississippi       Kemper County  10.6\n",
              "...      ...   ...   ...       ...          ...                 ...   ...\n",
              "885543     0    11  2009  November        Maine     Somerset County  10.5\n",
              "885544     0    11  2009  November        Maine       Oxford County  10.5\n",
              "885545     0    11  2009  November        Maine         Knox County   7.5\n",
              "885546     0    11  2009  November        Maine  Piscataquis County  11.3\n",
              "885547     0    11  2009  November        Maine    Aroostook County   9.0\n",
              "\n",
              "[885548 rows x 7 columns]"
            ]
          },
          "metadata": {},
          "execution_count": 404
        }
      ]
    },
    {
      "cell_type": "code",
      "metadata": {
        "colab": {
          "base_uri": "https://localhost:8080/",
          "height": 269
        },
        "id": "r9imYAbBIB2K",
        "outputId": "348ca092-e125-4bd1-b178-0a7855ea774e"
      },
      "source": [
        "sns.heatmap(df.corr(), annot = True, square = True);"
      ],
      "execution_count": 407,
      "outputs": [
        {
          "output_type": "display_data",
          "data": {
            "image/png": "[encoded data removed]",
            "text/plain": [
              "<Figure size 432x288 with 2 Axes>"
            ]
          },
          "metadata": {
            "needs_background": "light"
          }
        }
      ]
    },
    {
      "cell_type": "code",
      "metadata": {
        "id": "4_r-WidRLX5Z"
      },
      "source": [
        "des_x = df[['Year']]"
      ],
      "execution_count": 409,
      "outputs": []
    },
    {
      "cell_type": "code",
      "metadata": {
        "id": "SIHcUZ_qLfIo"
      },
      "source": [
        "des_y = df[['sec2']]"
      ],
      "execution_count": 411,
      "outputs": []
    },
    {
      "cell_type": "code",
      "metadata": {
        "id": "wlhYFPXULkPz"
      },
      "source": [
        "logreg = LogisticRegression()"
      ],
      "execution_count": 414,
      "outputs": []
    },
    {
      "cell_type": "code",
      "metadata": {
        "colab": {
          "base_uri": "https://localhost:8080/"
        },
        "id": "zhWM10LMI4ym",
        "outputId": "5e11d40f-d6b9-4ea3-d45f-994558629e2f"
      },
      "source": [
        "logreg.fit(des_x,des_y)\n",
        "\n",
        "Y_pred = logreg.predict(des_x)\n",
        "acc_log = round(logreg.score(des_x, des_y) * 100, 2)\n",
        "acc_log"
      ],
      "execution_count": 416,
      "outputs": [
        {
          "output_type": "stream",
          "name": "stderr",
          "text": [
            "/usr/local/lib/python3.7/dist-packages/sklearn/utils/validation.py:985: DataConversionWarning: A column-vector y was passed when a 1d array was expected. Please change the shape of y to (n_samples, ), for example using ravel().\n",
            "  y = column_or_1d(y, warn=True)\n"
          ]
        },
        {
          "output_type": "execute_result",
          "data": {
            "text/plain": [
              "8.42"
            ]
          },
          "metadata": {},
          "execution_count": 416
        }
      ]
    }
  ]
}