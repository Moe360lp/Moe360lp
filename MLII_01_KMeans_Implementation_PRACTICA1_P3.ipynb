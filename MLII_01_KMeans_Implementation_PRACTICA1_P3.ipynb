{
  "nbformat": 4,
  "nbformat_minor": 0,
  "metadata": {
    "colab": {
      "name": " ML2_01_KMeans_Implementation_P3.ipynb",
      "provenance": [],
      "collapsed_sections": [],
      "include_colab_link": true
    },
    "kernelspec": {
      "name": "python3",
      "display_name": "Python 3"
    }
  },
  "cells": [
    {
      "cell_type": "markdown",
      "metadata": {
        "id": "view-in-github",
        "colab_type": "text"
      },
      "source": [
        "<a href=\"https://colab.research.google.com/github/Moe360lp/Moe360lp/blob/main/MLII_01_KMeans_Implementation_PRACTICA1_P3.ipynb\" target=\"_parent\"><img src=\"https://colab.research.google.com/assets/colab-badge.svg\" alt=\"Open In Colab\"/></a>"
      ]
    },
    {
      "cell_type": "markdown",
      "metadata": {
        "id": "tFr3s1eh9_Mi"
      },
      "source": [
        "# K-Means Implementation\n",
        "Trabajo práctico 1"
      ]
    },
    {
      "cell_type": "code",
      "metadata": {
        "id": "irGOL_Dcw8ja"
      },
      "source": [
        "import matplotlib.pyplot as plt\n",
        "import numpy as np\n",
        "from matplotlib.animation import FuncAnimation\n",
        "from IPython.display import HTML, Image"
      ],
      "execution_count": 16,
      "outputs": []
    },
    {
      "cell_type": "code",
      "source": [
        "from sklearn.cluster import MiniBatchKMeans, KMeans\n",
        "from sklearn.metrics.pairwise import pairwise_distances_argmin"
      ],
      "metadata": {
        "id": "MqqLGsckSeFe"
      },
      "execution_count": 19,
      "outputs": []
    },
    {
      "cell_type": "code",
      "metadata": {
        "id": "CPAlQNGP1oHR"
      },
      "source": [
        "def generate_data():\n",
        "    n_clusters = 3\n",
        "    points_per_cluster = 400\n",
        "    means = np.array([[1, 1],\n",
        "                      [5, 5],\n",
        "                      [1, 10]])\n",
        "    \n",
        "    data = np.zeros((n_clusters * points_per_cluster, 2))\n",
        "\n",
        "    for i in range(n_clusters):\n",
        "        data[i * points_per_cluster:i * points_per_cluster + points_per_cluster] =\\\n",
        "            np.random.normal(loc=means[i], scale=0.5, size=(points_per_cluster, 2))\n",
        "\n",
        "    return data"
      ],
      "execution_count": 20,
      "outputs": []
    },
    {
      "cell_type": "code",
      "metadata": {
        "id": "uC_AE-8M3VZT",
        "colab": {
          "base_uri": "https://localhost:8080/"
        },
        "outputId": "465c9bbc-3553-4e04-bcb9-496dad17ea0d"
      },
      "source": [
        "X = generate_data()\n",
        "X"
      ],
      "execution_count": 21,
      "outputs": [
        {
          "output_type": "execute_result",
          "data": {
            "text/plain": [
              "array([[ 0.87194185,  1.0469689 ],\n",
              "       [ 1.36437494,  0.56652633],\n",
              "       [ 0.86124304,  1.60688659],\n",
              "       ...,\n",
              "       [ 0.56935279, 10.30030983],\n",
              "       [ 1.00745536, 10.00480344],\n",
              "       [ 1.70979011, 10.31490696]])"
            ]
          },
          "metadata": {},
          "execution_count": 21
        }
      ]
    },
    {
      "cell_type": "code",
      "metadata": {
        "id": "83D1GJJF3zej",
        "colab": {
          "base_uri": "https://localhost:8080/",
          "height": 609
        },
        "outputId": "f83d8f8e-79b2-43d1-dded-459419060a69"
      },
      "source": [
        "plt.figure(figsize=(10, 10))\n",
        "plt.scatter(X[:, 0], X[:, 1], s=10, c='black')"
      ],
      "execution_count": 22,
      "outputs": [
        {
          "output_type": "execute_result",
          "data": {
            "text/plain": [
              "<matplotlib.collections.PathCollection at 0x7f6442ca47d0>"
            ]
          },
          "metadata": {},
          "execution_count": 22
        },
        {
          "output_type": "display_data",
          "data": {
            "text/plain": [
              "<Figure size 720x720 with 1 Axes>"
            ],
            "image/png": "[encoded data removed]"
          },
          "metadata": {
            "needs_background": "light"
          }
        }
      ]
    },
    {
      "cell_type": "code",
      "metadata": {
        "id": "mcCzJFnT_fRQ",
        "colab": {
          "base_uri": "https://localhost:8080/"
        },
        "outputId": "9d6e04c2-a0f2-454a-cadd-f47651d8091e"
      },
      "source": [
        "np.random.RandomState(42)"
      ],
      "execution_count": 23,
      "outputs": [
        {
          "output_type": "execute_result",
          "data": {
            "text/plain": [
              "RandomState(MT19937) at 0x7F64349FA270"
            ]
          },
          "metadata": {},
          "execution_count": 23
        }
      ]
    },
    {
      "cell_type": "markdown",
      "source": [
        "Realizar la implementación de KMeans en la siguiente función. Luego, realizar la validación y entrenamiento correspondiente de tal manera que cada nube de puntos se muestre con un color diferente."
      ],
      "metadata": {
        "id": "_zAKr670q5HM"
      }
    },
    {
      "cell_type": "code",
      "source": [
        "#def train_kmeans(X, n_clusters):\n",
        "# Realizar la implementación de k-means\n",
        "def train_kmeans(X, n_clusters, rseed=2):\n",
        "    \n",
        "    rng = np.random.RandomState(rseed)\n",
        "    i = rng.permutation(X.shape[0])[:n_clusters]\n",
        "    centers = X[i]\n",
        "    \n",
        "    while True:\n",
        "        \n",
        "        labels = pairwise_distances_argmin(X, centers)\n",
        "        \n",
        "        \n",
        "        new_centers = np.array([X[labels == i].mean(0)\n",
        "                                for i in range(n_clusters)])\n",
        "        \n",
        "        \n",
        "        if np.all(centers == new_centers):\n",
        "            break\n",
        "        centers = new_centers\n",
        "    \n",
        "    return centers, labels"
      ],
      "metadata": {
        "id": "sB4QdEbkrK7S"
      },
      "execution_count": 24,
      "outputs": []
    },
    {
      "cell_type": "code",
      "source": [
        "labels=train_kmeans(X,3)\n",
        "labels"
      ],
      "metadata": {
        "colab": {
          "base_uri": "https://localhost:8080/"
        },
        "id": "D5BD-UzeM8Fm",
        "outputId": "61c6b091-6bac-4ab6-b57a-170dd5d6e83a"
      },
      "execution_count": 27,
      "outputs": [
        {
          "output_type": "execute_result",
          "data": {
            "text/plain": [
              "(array([[ 0.9955965 , 10.03181451],\n",
              "        [ 5.00859006,  4.9968926 ],\n",
              "        [ 0.97911332,  1.04446746]]), array([2, 2, 2, ..., 0, 0, 0]))"
            ]
          },
          "metadata": {},
          "execution_count": 27
        }
      ]
    }
  ]
}