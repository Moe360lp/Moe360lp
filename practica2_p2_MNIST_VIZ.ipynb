{
  "nbformat": 4,
  "nbformat_minor": 0,
  "metadata": {
    "colab": {
      "name": "practica2_p2_MNIST_VIZ.ipynb",
      "provenance": [],
      "collapsed_sections": [],
      "include_colab_link": true
    },
    "kernelspec": {
      "name": "python3",
      "display_name": "Python 3"
    },
    "language_info": {
      "name": "python"
    }
  },
  "cells": [
    {
      "cell_type": "markdown",
      "metadata": {
        "id": "view-in-github",
        "colab_type": "text"
      },
      "source": [
        "<a href=\"https://colab.research.google.com/github/Moe360lp/Moe360lp/blob/main/practica2_p2_MNIST_VIZ.ipynb\" target=\"_parent\"><img src=\"https://colab.research.google.com/assets/colab-badge.svg\" alt=\"Open In Colab\"/></a>"
      ]
    },
    {
      "cell_type": "code",
      "execution_count": 1,
      "metadata": {
        "id": "afYjVPAzc9oS"
      },
      "outputs": [],
      "source": [
        "import numpy as np\n",
        "import matplotlib.pyplot as plt\n",
        "import tensorflow as tf\n",
        "import pandas as pd\n",
        "\n",
        "from sklearn.preprocessing import StandardScaler\n",
        "from sklearn.decomposition import PCA\n",
        "from IPython.display import Image\n",
        "from keras.utils.vis_utils import plot_model\n",
        "from tensorflow import keras"
      ]
    },
    {
      "cell_type": "code",
      "source": [
        "dataset = keras.datasets.mnist\n",
        "\n",
        "(X_train, y_train), (X_test, y_test) = dataset.load_data()"
      ],
      "metadata": {
        "id": "S2hU_sfxdJQF",
        "colab": {
          "base_uri": "https://localhost:8080/"
        },
        "outputId": "d7e69ca0-9a24-4062-d09d-c3e1d11d9572"
      },
      "execution_count": 2,
      "outputs": [
        {
          "output_type": "stream",
          "name": "stdout",
          "text": [
            "Downloading data from https://storage.googleapis.com/tensorflow/tf-keras-datasets/mnist.npz\n",
            "11493376/11490434 [==============================] - 0s 0us/step\n",
            "11501568/11490434 [==============================] - 0s 0us/step\n"
          ]
        }
      ]
    },
    {
      "cell_type": "markdown",
      "source": [
        "Ejercicio 1:\n",
        "Visualizar algunas imágenes del dataset de testing en la forma de una grilla. El resultado debe quedar como se muestra en el notebook."
      ],
      "metadata": {
        "id": "P18zMjRShslN"
      }
    },
    {
      "cell_type": "code",
      "source": [
        "# Completar\n",
        "a = list(zip(X_test, y_test))\n",
        "plt.subplots_adjust()\n",
        "for a, (image, label) in enumerate(a[:25]):\n",
        "    plt.subplot(5, 5, a + 1)\n",
        "    plt.axis('off')\n",
        "    plt.imshow(image, cmap=plt.cm.gray, interpolation='nearest')"
      ],
      "metadata": {
        "colab": {
          "base_uri": "https://localhost:8080/",
          "height": 248
        },
        "id": "TvputwgafllM",
        "outputId": "5bca6b87-5b37-4a43-d34a-20554973ddd0"
      },
      "execution_count": 3,
      "outputs": [
        {
          "output_type": "display_data",
          "data": {
            "text/plain": [
              "<Figure size 432x288 with 25 Axes>"
            ],
            "image/png": "[encoded data removed]"
          },
          "metadata": {
            "needs_background": "light"
          }
        }
      ]
    },
    {
      "cell_type": "markdown",
      "source": [
        "Ejercicio 2:\n",
        "Convertir X_train a un tensor de 60000 x 784 de tal manera de vectorizar cada imagen."
      ],
      "metadata": {
        "id": "ZsyVdSXGh9K_"
      }
    },
    {
      "cell_type": "code",
      "source": [
        "data = X_train.reshape(60000, 784)\n",
        "data.shape"
      ],
      "metadata": {
        "colab": {
          "base_uri": "https://localhost:8080/"
        },
        "id": "3TD6WUWef6j_",
        "outputId": "7d30504b-110c-4fe0-df1a-b533407a9358"
      },
      "execution_count": 4,
      "outputs": [
        {
          "output_type": "execute_result",
          "data": {
            "text/plain": [
              "(60000, 784)"
            ]
          },
          "metadata": {},
          "execution_count": 4
        }
      ]
    },
    {
      "cell_type": "code",
      "source": [
        "standardized_data = StandardScaler().fit_transform(data)"
      ],
      "metadata": {
        "id": "P5xXBzeufnyt"
      },
      "execution_count": 5,
      "outputs": []
    },
    {
      "cell_type": "markdown",
      "source": [
        "EJERCICIO 3: \n",
        "Por medio de PCA de sklearn, transformar el dataset a 2 dimensiones"
      ],
      "metadata": {
        "id": "QvL0KB6BiP1M"
      }
    },
    {
      "cell_type": "code",
      "source": [
        "pca = PCA(n_components=2)\n",
        "X_new = pca.fit_transform(standardized_data)"
      ],
      "metadata": {
        "id": "llsFvnhAhYrj"
      },
      "execution_count": 6,
      "outputs": []
    },
    {
      "cell_type": "code",
      "source": [
        "X_new.shape"
      ],
      "metadata": {
        "colab": {
          "base_uri": "https://localhost:8080/"
        },
        "id": "c3XeyNWhhha6",
        "outputId": "c8e81fd4-4dbe-4d59-d75d-72ba35c8595b"
      },
      "execution_count": 7,
      "outputs": [
        {
          "output_type": "execute_result",
          "data": {
            "text/plain": [
              "(60000, 2)"
            ]
          },
          "metadata": {},
          "execution_count": 7
        }
      ]
    },
    {
      "cell_type": "markdown",
      "source": [
        "EJERCICIO 4\n",
        "Finalmente, graficar el dataset resultante. Debe mostrarse el resultado visualizado al final."
      ],
      "metadata": {
        "id": "ZoHxNLfrjQk7"
      }
    },
    {
      "cell_type": "code",
      "source": [
        "dataframe = pd.DataFrame(data= X_new, columns=(\"1st_principal\", \"2nd_principal\"))\n",
        "print(dataframe.head())"
      ],
      "metadata": {
        "colab": {
          "base_uri": "https://localhost:8080/"
        },
        "id": "cXjDfK91hkuz",
        "outputId": "c1e9eac3-8dd2-4230-86f6-7068844ab1e6"
      },
      "execution_count": 8,
      "outputs": [
        {
          "output_type": "stream",
          "name": "stdout",
          "text": [
            "   1st_principal  2nd_principal\n",
            "0      -0.922126      -4.813403\n",
            "1       8.708967      -7.754286\n",
            "2       2.328379       9.429432\n",
            "3      -6.582182      -3.745508\n",
            "4      -5.183270       3.133718\n"
          ]
        }
      ]
    },
    {
      "cell_type": "code",
      "source": [
        "import seaborn as sns\n",
        "sns.FacetGrid(dataframe, size= 6).map(plt.scatter, '1st_principal', '2nd_principal').add_legend()\n",
        "plt.show()"
      ],
      "metadata": {
        "id": "LGwZpWdQuwBo",
        "outputId": "b2bf65a1-754b-4b6f-8c38-cf4f4926461b",
        "colab": {
          "base_uri": "https://localhost:8080/",
          "height": 476
        }
      },
      "execution_count": 9,
      "outputs": [
        {
          "output_type": "stream",
          "name": "stderr",
          "text": [
            "/usr/local/lib/python3.7/dist-packages/seaborn/axisgrid.py:337: UserWarning: The `size` parameter has been renamed to `height`; please update your code.\n",
            "  warnings.warn(msg, UserWarning)\n"
          ]
        },
        {
          "output_type": "display_data",
          "data": {
            "text/plain": [
              "<Figure size 440x432 with 1 Axes>"
            ],
            "image/png": "[encoded data removed]"
          },
          "metadata": {
            "needs_background": "light"
          }
        }
      ]
    }
  ]
}